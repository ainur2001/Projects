{
 "cells": [
  {
   "cell_type": "code",
   "execution_count": 117,
   "metadata": {
    "collapsed": true
   },
   "outputs": [
    {
     "name": "stdout",
     "output_type": "stream",
     "text": [
      "      Item(s)               Item 1               Item 2            Item 3  \\\n",
      "0           4         citrus fruit  semi-finished bread         margarine   \n",
      "1           3       tropical fruit               yogurt            coffee   \n",
      "2           1           whole milk                  NaN               NaN   \n",
      "3           4            pip fruit               yogurt      cream cheese   \n",
      "4           4     other vegetables           whole milk    condensed milk   \n",
      "...       ...                  ...                  ...               ...   \n",
      "9830       17              sausage              chicken              beef   \n",
      "9831        1    cooking chocolate                  NaN               NaN   \n",
      "9832       10              chicken         citrus fruit  other vegetables   \n",
      "9833        4  semi-finished bread        bottled water              soda   \n",
      "9834        5              chicken       tropical fruit  other vegetables   \n",
      "\n",
      "                        Item 4         Item 5          Item 6  \\\n",
      "0                  ready soups            NaN             NaN   \n",
      "1                          NaN            NaN             NaN   \n",
      "2                          NaN            NaN             NaN   \n",
      "3                 meat spreads            NaN             NaN   \n",
      "4     long life bakery product            NaN             NaN   \n",
      "...                        ...            ...             ...   \n",
      "9830            hamburger meat   citrus fruit          grapes   \n",
      "9831                       NaN            NaN             NaN   \n",
      "9832                    butter         yogurt  frozen dessert   \n",
      "9833              bottled beer            NaN             NaN   \n",
      "9834                   vinegar  shopping bags             NaN   \n",
      "\n",
      "               Item 7      Item 8  Item 9  ... Item 23 Item 24 Item 25  \\\n",
      "0                 NaN         NaN     NaN  ...     NaN     NaN     NaN   \n",
      "1                 NaN         NaN     NaN  ...     NaN     NaN     NaN   \n",
      "2                 NaN         NaN     NaN  ...     NaN     NaN     NaN   \n",
      "3                 NaN         NaN     NaN  ...     NaN     NaN     NaN   \n",
      "4                 NaN         NaN     NaN  ...     NaN     NaN     NaN   \n",
      "...               ...         ...     ...  ...     ...     ...     ...   \n",
      "9830  root vegetables  whole milk  butter  ...     NaN     NaN     NaN   \n",
      "9831              NaN         NaN     NaN  ...     NaN     NaN     NaN   \n",
      "9832    domestic eggs  rolls/buns     rum  ...     NaN     NaN     NaN   \n",
      "9833              NaN         NaN     NaN  ...     NaN     NaN     NaN   \n",
      "9834              NaN         NaN     NaN  ...     NaN     NaN     NaN   \n",
      "\n",
      "     Item 26 Item 27 Item 28 Item 29 Item 30 Item 31 Item 32  \n",
      "0        NaN     NaN     NaN     NaN     NaN     NaN     NaN  \n",
      "1        NaN     NaN     NaN     NaN     NaN     NaN     NaN  \n",
      "2        NaN     NaN     NaN     NaN     NaN     NaN     NaN  \n",
      "3        NaN     NaN     NaN     NaN     NaN     NaN     NaN  \n",
      "4        NaN     NaN     NaN     NaN     NaN     NaN     NaN  \n",
      "...      ...     ...     ...     ...     ...     ...     ...  \n",
      "9830     NaN     NaN     NaN     NaN     NaN     NaN     NaN  \n",
      "9831     NaN     NaN     NaN     NaN     NaN     NaN     NaN  \n",
      "9832     NaN     NaN     NaN     NaN     NaN     NaN     NaN  \n",
      "9833     NaN     NaN     NaN     NaN     NaN     NaN     NaN  \n",
      "9834     NaN     NaN     NaN     NaN     NaN     NaN     NaN  \n",
      "\n",
      "[9835 rows x 33 columns]\n"
     ]
    }
   ],
   "source": [
    "import pandas as pd\n",
    "\n",
    "all_data = pd.read_csv('groceries - groceries.csv')\n",
    "print(all_data)  #Видно, что датафрейм содержит NaN значения"
   ]
  },
  {
   "cell_type": "code",
   "execution_count": 118,
   "outputs": [],
   "source": [
    "np_data = all_data.to_numpy()\n",
    "np_data = [[elem for elem in row[1:] if isinstance(elem, str)] for row in\n",
    "           np_data]"
   ],
   "metadata": {
    "collapsed": false,
    "pycharm": {
     "name": "#%%\n"
    }
   }
  },
  {
   "cell_type": "code",
   "execution_count": 119,
   "outputs": [
    {
     "name": "stdout",
     "output_type": "stream",
     "text": [
      "Количество товаров: 169\n"
     ]
    },
    {
     "data": {
      "text/plain": "{'Instant food products',\n 'UHT-milk',\n 'abrasive cleaner',\n 'artif. sweetener',\n 'baby cosmetics',\n 'baby food',\n 'bags',\n 'baking powder',\n 'bathroom cleaner',\n 'beef',\n 'berries',\n 'beverages',\n 'bottled beer',\n 'bottled water',\n 'brandy',\n 'brown bread',\n 'butter',\n 'butter milk',\n 'cake bar',\n 'candles',\n 'candy',\n 'canned beer',\n 'canned fish',\n 'canned fruit',\n 'canned vegetables',\n 'cat food',\n 'cereals',\n 'chewing gum',\n 'chicken',\n 'chocolate',\n 'chocolate marshmallow',\n 'citrus fruit',\n 'cleaner',\n 'cling film/bags',\n 'cocoa drinks',\n 'coffee',\n 'condensed milk',\n 'cooking chocolate',\n 'cookware',\n 'cream',\n 'cream cheese',\n 'curd',\n 'curd cheese',\n 'decalcifier',\n 'dental care',\n 'dessert',\n 'detergent',\n 'dish cleaner',\n 'dishes',\n 'dog food',\n 'domestic eggs',\n 'female sanitary products',\n 'finished products',\n 'fish',\n 'flour',\n 'flower (seeds)',\n 'flower soil/fertilizer',\n 'frankfurter',\n 'frozen chicken',\n 'frozen dessert',\n 'frozen fish',\n 'frozen fruits',\n 'frozen meals',\n 'frozen potato products',\n 'frozen vegetables',\n 'fruit/vegetable juice',\n 'grapes',\n 'hair spray',\n 'ham',\n 'hamburger meat',\n 'hard cheese',\n 'herbs',\n 'honey',\n 'house keeping products',\n 'hygiene articles',\n 'ice cream',\n 'instant coffee',\n 'jam',\n 'ketchup',\n 'kitchen towels',\n 'kitchen utensil',\n 'light bulbs',\n 'liqueur',\n 'liquor',\n 'liquor (appetizer)',\n 'liver loaf',\n 'long life bakery product',\n 'make up remover',\n 'male cosmetics',\n 'margarine',\n 'mayonnaise',\n 'meat',\n 'meat spreads',\n 'misc. beverages',\n 'mustard',\n 'napkins',\n 'newspapers',\n 'nut snack',\n 'nuts/prunes',\n 'oil',\n 'onions',\n 'organic products',\n 'organic sausage',\n 'other vegetables',\n 'packaged fruit/vegetables',\n 'pasta',\n 'pastry',\n 'pet care',\n 'photo/film',\n 'pickled vegetables',\n 'pip fruit',\n 'popcorn',\n 'pork',\n 'potato products',\n 'potted plants',\n 'preservation products',\n 'processed cheese',\n 'prosecco',\n 'pudding powder',\n 'ready soups',\n 'red/blush wine',\n 'rice',\n 'roll products',\n 'rolls/buns',\n 'root vegetables',\n 'rubbing alcohol',\n 'rum',\n 'salad dressing',\n 'salt',\n 'salty snack',\n 'sauces',\n 'sausage',\n 'seasonal products',\n 'semi-finished bread',\n 'shopping bags',\n 'skin care',\n 'sliced cheese',\n 'snack products',\n 'soap',\n 'soda',\n 'soft cheese',\n 'softener',\n 'sound storage medium',\n 'soups',\n 'sparkling wine',\n 'specialty bar',\n 'specialty cheese',\n 'specialty chocolate',\n 'specialty fat',\n 'specialty vegetables',\n 'spices',\n 'spread cheese',\n 'sugar',\n 'sweet spreads',\n 'syrup',\n 'tea',\n 'tidbits',\n 'toilet cleaner',\n 'tropical fruit',\n 'turkey',\n 'vinegar',\n 'waffles',\n 'whipped/sour cream',\n 'whisky',\n 'white bread',\n 'white wine',\n 'whole milk',\n 'yogurt',\n 'zwieback'}"
     },
     "execution_count": 119,
     "metadata": {},
     "output_type": "execute_result"
    }
   ],
   "source": [
    "unique_items = set()\n",
    "for row in np_data:\n",
    "    for elem in row:\n",
    "        unique_items.add(elem)\n",
    "\n",
    "print(f'Количество товаров: {len(unique_items)}')\n",
    "unique_items"
   ],
   "metadata": {
    "collapsed": false,
    "pycharm": {
     "name": "#%%\n"
    }
   }
  },
  {
   "cell_type": "code",
   "execution_count": 120,
   "outputs": [],
   "source": [
    "from mlxtend.preprocessing import TransactionEncoder\n",
    "\n",
    "te = TransactionEncoder()\n",
    "te_ary = te.fit(np_data).transform(np_data)\n",
    "data = pd.DataFrame(te_ary, columns=te.columns_)"
   ],
   "metadata": {
    "collapsed": false,
    "pycharm": {
     "name": "#%%\n"
    }
   }
  },
  {
   "cell_type": "code",
   "execution_count": 121,
   "outputs": [
    {
     "name": "stdout",
     "output_type": "stream",
     "text": [
      "     support                             itemsets\n",
      "0   0.082766                       (citrus fruit)\n",
      "1   0.058566                          (margarine)\n",
      "2   0.139502                             (yogurt)\n",
      "3   0.104931                     (tropical fruit)\n",
      "4   0.058058                             (coffee)\n",
      "..       ...                                  ...\n",
      "58  0.033249                 (pastry, whole milk)\n",
      "59  0.047382  (root vegetables, other vegetables)\n",
      "60  0.048907        (root vegetables, whole milk)\n",
      "61  0.030605                (rolls/buns, sausage)\n",
      "62  0.032232     (whipped/sour cream, whole milk)\n",
      "\n",
      "[63 rows x 2 columns]\n"
     ]
    }
   ],
   "source": [
    "from mlxtend.frequent_patterns import fpgrowth\n",
    "\n",
    "result = fpgrowth(data, min_support=0.03, use_colnames=True)\n",
    "print(result)"
   ],
   "metadata": {
    "collapsed": false,
    "pycharm": {
     "name": "#%%\n"
    }
   }
  },
  {
   "cell_type": "code",
   "execution_count": 122,
   "outputs": [
    {
     "name": "stdout",
     "output_type": "stream",
     "text": [
      "При длине 1 минимальное значение: 0.03040162684290798, максимальное значение: 0.25551601423487547\n",
      "При длине 2 минимальное значение: 0.030096593797661414, максимальное значение: 0.07483477376715811\n"
     ]
    }
   ],
   "source": [
    "result[\"itemsets_len\"] = result[\"itemsets\"].apply(lambda x: len(x))\n",
    "\n",
    "length_itemsets = set(result[\"itemsets_len\"])\n",
    "\n",
    "for length in length_itemsets:\n",
    "    length_result = result[(result['itemsets_len'] == length)]\n",
    "    print(\n",
    "        f'При длине {length} минимальное значение: {min(length_result[\"support\"])}, максимальное значение: {max(length_result[\"support\"])}')"
   ],
   "metadata": {
    "collapsed": false,
    "pycharm": {
     "name": "#%%\n"
    }
   }
  },
  {
   "cell_type": "code",
   "execution_count": 123,
   "outputs": [
    {
     "name": "stdout",
     "output_type": "stream",
     "text": [
      "При длине 1 минимальное значение: 0.03040162684290798, максимальное значение: 0.09852567361464158\n",
      "При длине 2 минимальное значение: 0.030096593797661414, максимальное значение: 0.07483477376715811\n"
     ]
    }
   ],
   "source": [
    "from mlxtend.frequent_patterns import fpmax\n",
    "\n",
    "result_fpmax = fpmax(data, min_support=0.03, use_colnames=True)\n",
    "\n",
    "result_fpmax[\"itemsets_len\"] = result_fpmax[\"itemsets\"].apply(lambda x: len(x))\n",
    "\n",
    "length_itemsets_fpmax = set(result[\"itemsets_len\"])\n",
    "\n",
    "for length in length_itemsets_fpmax:\n",
    "    length_result_fpmax = result_fpmax[(result_fpmax[\"itemsets_len\"] == length)]\n",
    "    print(\n",
    "        f'При длине {length} минимальное значение: {min(length_result_fpmax[\"support\"])}, максимальное значение: {max(length_result_fpmax[\"support\"])}')\n"
   ],
   "metadata": {
    "collapsed": false,
    "pycharm": {
     "name": "#%%\n"
    }
   }
  },
  {
   "cell_type": "code",
   "execution_count": 124,
   "outputs": [
    {
     "data": {
      "text/plain": "'FP-Max — это вариант FP-Growth, который фокусируется на получении максимальных наборов предметов. Набор элементов X называется максимальным, если X является частым и не существует частого супершаблона, содержащего X. Другими словами, частый шаблон X не может быть подшаблоном более частого шаблона, чтобы соответствовать определению максимального набора элементов'"
     },
     "execution_count": 124,
     "metadata": {},
     "output_type": "execute_result"
    }
   ],
   "source": [
    "'FP-Max — это вариант FP-Growth, который фокусируется на получении максимальных наборов предметов. Набор элементов X называется максимальным, если X является частым и не существует частого супершаблона, содержащего X. Другими словами, частый шаблон X не может быть подшаблоном более частого шаблона, чтобы соответствовать определению максимального набора элементов'"
   ],
   "metadata": {
    "collapsed": false,
    "pycharm": {
     "name": "#%%\n"
    }
   }
  },
  {
   "cell_type": "code",
   "execution_count": 125,
   "outputs": [
    {
     "data": {
      "text/plain": "<Figure size 1800x700 with 1 Axes>",
      "image/png": "[encoded data removed]"
     },
     "metadata": {},
     "output_type": "display_data"
    },
    {
     "data": {
      "text/plain": "'Данная гистограмма показывает 10 наиболее часто встречаемых товаров'"
     },
     "execution_count": 125,
     "metadata": {},
     "output_type": "execute_result"
    }
   ],
   "source": [
    "import matplotlib.pyplot as plt\n",
    "\n",
    "result_fpmax_len1 = fpmax(data, min_support=0.03, use_colnames=True, max_len=1)\n",
    "items = []\n",
    "supports = []\n",
    "\n",
    "for item in result_fpmax_len1[\"itemsets\"]:\n",
    "    items.append(*list(item))\n",
    "\n",
    "for support in result_fpmax_len1[\"support\"]:\n",
    "    supports.append(support)\n",
    "\n",
    "dictionary_most_common = {}\n",
    "for i in range(len(items)):\n",
    "    dictionary_most_common[items[i]] = supports[i]\n",
    "\n",
    "tuple_most_common = tuple(sorted(dictionary_most_common.items(), key=lambda x: x[1], reverse=True))[0:10]\n",
    "\n",
    "fig, ax = plt.subplots(figsize=(18, 7))\n",
    "names = [name[0] for name in tuple_most_common]\n",
    "sups = [sup[1] for sup in tuple_most_common]\n",
    "ax.bar(names, sups)\n",
    "plt.show()\n",
    "\n",
    "'Данная гистограмма показывает 10 наиболее часто встречаемых товаров'"
   ],
   "metadata": {
    "collapsed": false,
    "pycharm": {
     "name": "#%%\n"
    }
   }
  },
  {
   "cell_type": "code",
   "execution_count": 126,
   "outputs": [],
   "source": [
    "items = ['whole milk', 'yogurt', 'soda', 'tropical fruit', 'shopping bags',\n",
    "         'sausage', 'whipped/sour cream', 'rolls/buns', 'other vegetables', 'root vegetables',\n",
    "         'pork', 'bottled water', 'pastry', 'citrus fruit', 'canned beer', 'bottled beer']\n",
    "np_data = all_data.to_numpy()\n",
    "np_data = [[elem for elem in row[1:] if isinstance(elem, str) and elem in\n",
    "            items] for row in np_data]"
   ],
   "metadata": {
    "collapsed": false,
    "pycharm": {
     "name": "#%%\n"
    }
   }
  },
  {
   "cell_type": "code",
   "execution_count": 128,
   "outputs": [],
   "source": [
    "te1 = TransactionEncoder()\n",
    "te_ary1 = te1.fit(np_data).transform(np_data)\n",
    "data1 = pd.DataFrame(te_ary1, columns=te1.columns_)"
   ],
   "metadata": {
    "collapsed": false,
    "pycharm": {
     "name": "#%%\n"
    }
   }
  },
  {
   "cell_type": "code",
   "execution_count": 132,
   "outputs": [
    {
     "name": "stdout",
     "output_type": "stream",
     "text": [
      "     support                             itemsets\n",
      "0   0.082766                       (citrus fruit)\n",
      "1   0.139502                             (yogurt)\n",
      "2   0.104931                     (tropical fruit)\n",
      "3   0.255516                         (whole milk)\n",
      "4   0.193493                   (other vegetables)\n",
      "5   0.183935                         (rolls/buns)\n",
      "6   0.080529                       (bottled beer)\n",
      "7   0.110524                      (bottled water)\n",
      "8   0.174377                               (soda)\n",
      "9   0.088968                             (pastry)\n",
      "10  0.108998                    (root vegetables)\n",
      "11  0.077682                        (canned beer)\n",
      "12  0.093950                            (sausage)\n",
      "13  0.098526                      (shopping bags)\n",
      "14  0.071683                 (whipped/sour cream)\n",
      "15  0.057651                               (pork)\n",
      "16  0.030503           (whole milk, citrus fruit)\n",
      "17  0.056024                 (yogurt, whole milk)\n",
      "18  0.034367                 (rolls/buns, yogurt)\n",
      "19  0.043416           (other vegetables, yogurt)\n",
      "20  0.035892   (other vegetables, tropical fruit)\n",
      "21  0.042298         (tropical fruit, whole milk)\n",
      "22  0.074835       (other vegetables, whole milk)\n",
      "23  0.042603       (other vegetables, rolls/buns)\n",
      "24  0.056634             (rolls/buns, whole milk)\n",
      "25  0.034367          (bottled water, whole milk)\n",
      "26  0.038332                   (rolls/buns, soda)\n",
      "27  0.040061                   (whole milk, soda)\n",
      "28  0.032740             (other vegetables, soda)\n",
      "29  0.033249                 (pastry, whole milk)\n",
      "30  0.047382  (root vegetables, other vegetables)\n",
      "31  0.048907        (root vegetables, whole milk)\n",
      "32  0.030605                (sausage, rolls/buns)\n",
      "33  0.032232     (whipped/sour cream, whole milk)\n"
     ]
    }
   ],
   "source": [
    "result1 = fpgrowth(data1, min_support=0.03, use_colnames=True)\n",
    "print(result1)"
   ],
   "metadata": {
    "collapsed": false,
    "pycharm": {
     "name": "#%%\n"
    }
   }
  },
  {
   "cell_type": "code",
   "execution_count": 138,
   "outputs": [
    {
     "data": {
      "text/plain": "<Figure size 1200x300 with 1 Axes>",
      "image/png": "[encoded data removed]"
     },
     "metadata": {},
     "output_type": "display_data"
    }
   ],
   "source": [
    "result2 = fpmax(data1, min_support=0.03, use_colnames=True, max_len=1)\n",
    "items = []\n",
    "supports = []\n",
    "\n",
    "for item in result2[\"itemsets\"]:\n",
    "    items.append(*list(item))\n",
    "\n",
    "for support in result2[\"support\"]:\n",
    "    supports.append(support)\n",
    "\n",
    "dictionary_most_common = {}\n",
    "for i in range(len(items)):\n",
    "    dictionary_most_common[items[i]] = supports[i]\n",
    "\n",
    "tuple_most_common = tuple(sorted(dictionary_most_common.items(), key=lambda x: x[1], reverse=True))[0:10]\n",
    "\n",
    "fig, ax = plt.subplots(figsize=(12, 3))\n",
    "names = [name[0] for name in tuple_most_common]\n",
    "sups = [sup[1] for sup in tuple_most_common]\n",
    "ax.bar(names, sups)\n",
    "plt.show()"
   ],
   "metadata": {
    "collapsed": false,
    "pycharm": {
     "name": "#%%\n"
    }
   }
  },
  {
   "cell_type": "code",
   "execution_count": null,
   "outputs": [],
   "source": [
    "'изменилось общее количество наборов'"
   ],
   "metadata": {
    "collapsed": false,
    "pycharm": {
     "name": "#%%\n"
    }
   }
  },
  {
   "cell_type": "code",
   "execution_count": 152,
   "outputs": [
    {
     "data": {
      "text/plain": "<Figure size 600x400 with 1 Axes>",
      "image/png": "[encoded data removed]"
     },
     "metadata": {},
     "output_type": "display_data"
    },
    {
     "name": "stdout",
     "output_type": "stream",
     "text": [
      "Уровень поддержки при котором перестают генерироваться наборы размера 2: 0.08000000000000000340005801292\n",
      "Уровень поддержки при котором перестают генерироваться наборы размера 1: 0.2600000000000000071470607208\n"
     ]
    }
   ],
   "source": [
    "from decimal import Decimal\n",
    "\n",
    "import matplotlib.pyplot as plt\n",
    "\n",
    "start = Decimal(0.05)\n",
    "support = []\n",
    "length = []\n",
    "max_len = []\n",
    "while start <= 1:\n",
    "    support.append(start)\n",
    "\n",
    "    results = fpgrowth(data1, min_support=start, use_colnames=True)\n",
    "    results['length'] = results['itemsets'].apply(lambda x: len(x))\n",
    "\n",
    "    length.append(len(results))\n",
    "    if len(results) > 0:\n",
    "        max_len.append(max(results['length']))\n",
    "\n",
    "    start += Decimal(0.01)\n",
    "\n",
    "fig, ax = plt.subplots(figsize=(6, 4))\n",
    "ax.plot(support, length)\n",
    "\n",
    "ax.scatter(support[max_len.index(1)], length[max_len.index(1)], color='green', s=40, marker='o')\n",
    "ax.annotate('Конец набора размера 2', xy=(support[max_len.index(1)] + Decimal(0.02), length[max_len.index(1)]),\n",
    "            xytext=(0.18, 9),\n",
    "            fontsize=8, arrowprops=dict(facecolor='green', width=1, headwidth=5))\n",
    "\n",
    "ax.scatter(support[len(max_len)], length[len(max_len)], color='yellow', s=40, marker='o')\n",
    "ax.annotate('Конец набора\\nразмера 1', xy=(support[len(max_len)], length[len(max_len)]), xytext=(0.4, 5),\n",
    "            fontsize=8, arrowprops=dict(facecolor='yellow', width=1, headwidth=5))\n",
    "\n",
    "plt.show()\n",
    "\n",
    "print(f'Уровень поддержки при котором перестают генерироваться наборы размера 2: {support[max_len.index(1)]}')\n",
    "print(f'Уровень поддержки при котором перестают генерироваться наборы размера 1: {support[len(max_len)]}')"
   ],
   "metadata": {
    "collapsed": false,
    "pycharm": {
     "name": "#%%\n"
    }
   }
  },
  {
   "cell_type": "code",
   "execution_count": 153,
   "outputs": [],
   "source": [
    "np_data = all_data.to_numpy()\n",
    "np_data = [[elem for elem in row[1:] if isinstance(elem, str) and elem in\n",
    "            items] for row in np_data]\n",
    "np_data = [row for row in np_data if len(row) > 1]"
   ],
   "metadata": {
    "collapsed": false,
    "pycharm": {
     "name": "#%%\n"
    }
   }
  },
  {
   "cell_type": "code",
   "execution_count": 154,
   "outputs": [],
   "source": [
    "result = fpgrowth(data, min_support=0.05, use_colnames=True)"
   ],
   "metadata": {
    "collapsed": false,
    "pycharm": {
     "name": "#%%\n"
    }
   }
  },
  {
   "cell_type": "code",
   "execution_count": 165,
   "outputs": [
    {
     "data": {
      "text/plain": "          antecedents   consequents  antecedent support  consequent support  \\\n0            (yogurt)  (whole milk)            0.139502            0.255516   \n1  (other vegetables)  (whole milk)            0.193493            0.255516   \n2        (rolls/buns)  (whole milk)            0.183935            0.255516   \n\n    support  confidence      lift  leverage  conviction  \n0  0.056024    0.401603  1.571735  0.020379    1.244132  \n1  0.074835    0.386758  1.513634  0.025394    1.214013  \n2  0.056634    0.307905  1.205032  0.009636    1.075696  ",
      "text/html": "<div>\n<style scoped>\n    .dataframe tbody tr th:only-of-type {\n        vertical-align: middle;\n    }\n\n    .dataframe tbody tr th {\n        vertical-align: top;\n    }\n\n    .dataframe thead th {\n        text-align: right;\n    }\n</style>\n<table border=\"1\" class=\"dataframe\">\n  <thead>\n    <tr style=\"text-align: right;\">\n      <th></th>\n      <th>antecedents</th>\n      <th>consequents</th>\n      <th>antecedent support</th>\n      <th>consequent support</th>\n      <th>support</th>\n      <th>confidence</th>\n      <th>lift</th>\n      <th>leverage</th>\n      <th>conviction</th>\n    </tr>\n  </thead>\n  <tbody>\n    <tr>\n      <th>0</th>\n      <td>(yogurt)</td>\n      <td>(whole milk)</td>\n      <td>0.139502</td>\n      <td>0.255516</td>\n      <td>0.056024</td>\n      <td>0.401603</td>\n      <td>1.571735</td>\n      <td>0.020379</td>\n      <td>1.244132</td>\n    </tr>\n    <tr>\n      <th>1</th>\n      <td>(other vegetables)</td>\n      <td>(whole milk)</td>\n      <td>0.193493</td>\n      <td>0.255516</td>\n      <td>0.074835</td>\n      <td>0.386758</td>\n      <td>1.513634</td>\n      <td>0.025394</td>\n      <td>1.214013</td>\n    </tr>\n    <tr>\n      <th>2</th>\n      <td>(rolls/buns)</td>\n      <td>(whole milk)</td>\n      <td>0.183935</td>\n      <td>0.255516</td>\n      <td>0.056634</td>\n      <td>0.307905</td>\n      <td>1.205032</td>\n      <td>0.009636</td>\n      <td>1.075696</td>\n    </tr>\n  </tbody>\n</table>\n</div>"
     },
     "execution_count": 165,
     "metadata": {},
     "output_type": "execute_result"
    }
   ],
   "source": [
    "from mlxtend.frequent_patterns import association_rules\n",
    "\n",
    "rules = association_rules(result, min_threshold=0.3)\n",
    "rules"
   ],
   "metadata": {
    "collapsed": false,
    "pycharm": {
     "name": "#%%\n"
    }
   }
  },
  {
   "cell_type": "code",
   "execution_count": 164,
   "outputs": [
    {
     "name": "stdout",
     "output_type": "stream",
     "text": [
      "\n",
      "Поддерживаемые в настоящее время метрики для оценки правил связывания и установки порогов выбора перечислены ниже. Учитывая правило «A -> C», A обозначает antecedents, а C обозначает consequents \n",
      "\n",
      "Метрика support определяется для наборов элементов, а не для правил ассоциации. Таблица, созданная алгоритмом анализа правил ассоциации, содержит три различных показателя поддержки: «antecedent support», «consequent support» и «support». Здесь «antecedent support» вычисляет долю транзакций, содержащих антецедент A, и «consequent suppor» вычисляет поддержку набора элементов последовательного C. Метрика «support» затем вычисляет поддержку комбинированного набора элементов A ∪ C. \n",
      "\n",
      "Confidence правила A-> C — это вероятность увидеть следствие в транзакции при условии, что оно также содержит антецедент. \n",
      "\n",
      "Метрика lift обычно используется для измерения того, насколько чаще антецедент и консеквент правила A->C встречаются вместе, чем можно было бы ожидать, если бы они были статистически независимыми. Если А и С независимы, оценка Лифта будет ровно 1. \n",
      "\n",
      "Leverage вычисляет разницу между наблюдаемой частотой появления А и С вместе и частотой, которую можно было бы ожидать, если бы А и С были независимыми. Значение кредитного плеча, равное 0, указывает на независимость. \n",
      "\n",
      "Высокое значение conviction означает, что следствие сильно зависит от антецедента.\n",
      "\n"
     ]
    }
   ],
   "source": [
    "print('''\n",
    "Поддерживаемые в настоящее время метрики для оценки правил связывания и установки порогов выбора перечислены ниже. Учитывая правило «A -> C», A обозначает antecedents, а C обозначает consequents \\n\n",
    "Метрика support определяется для наборов элементов, а не для правил ассоциации. Таблица, созданная алгоритмом анализа правил ассоциации, содержит три различных показателя поддержки: «antecedent support», «consequent support» и «support». Здесь «antecedent support» вычисляет долю транзакций, содержащих антецедент A, и «consequent support» вычисляет поддержку набора элементов последовательного C. Метрика «support» затем вычисляет поддержку комбинированного набора элементов A ∪ C. \\n\n",
    "Confidence правила A-> C — это вероятность увидеть следствие в транзакции при условии, что оно также содержит антецедент. \\n\n",
    "Метрика lift обычно используется для измерения того, насколько чаще антецедент и консеквент правила A->C встречаются вместе, чем можно было бы ожидать, если бы они были статистически независимыми. Если А и С независимы, оценка Лифта будет ровно 1. \\n\n",
    "Leverage вычисляет разницу между наблюдаемой частотой появления А и С вместе и частотой, которую можно было бы ожидать, если бы А и С были независимыми. Значение кредитного плеча, равное 0, указывает на независимость. \\n\n",
    "Высокое значение conviction означает, что следствие сильно зависит от антецедента.\n",
    "''')"
   ],
   "metadata": {
    "collapsed": false,
    "pycharm": {
     "name": "#%%\n"
    }
   }
  },
  {
   "cell_type": "code",
   "execution_count": 166,
   "outputs": [
    {
     "data": {
      "text/plain": "'Расчет производится на основе метрике confidence'"
     },
     "execution_count": 166,
     "metadata": {},
     "output_type": "execute_result"
    }
   ],
   "source": [
    "'Расчет производится на основе метрике confidence'"
   ],
   "metadata": {
    "collapsed": false,
    "pycharm": {
     "name": "#%%\n"
    }
   }
  },
  {
   "cell_type": "code",
   "execution_count": 192,
   "outputs": [
    {
     "name": "stdout",
     "output_type": "stream",
     "text": [
      "Среднее значение параметра confidence: 0.2829052726691693\n",
      "Медиана параметра confidence: 0.23824809507666894\n",
      "СКО параметра confidence: 0.09174103324706069\n"
     ]
    },
    {
     "data": {
      "text/plain": "           antecedents         consequents  antecedent support  \\\n0             (yogurt)        (whole milk)            0.139502   \n1         (whole milk)            (yogurt)            0.255516   \n2   (other vegetables)            (yogurt)            0.193493   \n3             (yogurt)  (other vegetables)            0.139502   \n4     (tropical fruit)        (whole milk)            0.104931   \n5         (whole milk)    (tropical fruit)            0.255516   \n6   (other vegetables)        (whole milk)            0.193493   \n7         (whole milk)  (other vegetables)            0.255516   \n8         (rolls/buns)  (other vegetables)            0.183935   \n9   (other vegetables)        (rolls/buns)            0.193493   \n10        (rolls/buns)        (whole milk)            0.183935   \n11        (whole milk)        (rolls/buns)            0.255516   \n12        (whole milk)              (soda)            0.255516   \n13              (soda)        (whole milk)            0.174377   \n14   (root vegetables)  (other vegetables)            0.108998   \n15  (other vegetables)   (root vegetables)            0.193493   \n16   (root vegetables)        (whole milk)            0.108998   \n17        (whole milk)   (root vegetables)            0.255516   \n\n    consequent support   support  confidence      lift  leverage  conviction  \n0             0.255516  0.056024    0.401603  1.571735  0.020379    1.244132  \n1             0.139502  0.056024    0.219260  1.571735  0.020379    1.102157  \n2             0.139502  0.043416    0.224383  1.608457  0.016424    1.109436  \n3             0.193493  0.043416    0.311224  1.608457  0.016424    1.170929  \n4             0.255516  0.042298    0.403101  1.577595  0.015486    1.247252  \n5             0.104931  0.042298    0.165539  1.577595  0.015486    1.072631  \n6             0.255516  0.074835    0.386758  1.513634  0.025394    1.214013  \n7             0.193493  0.074835    0.292877  1.513634  0.025394    1.140548  \n8             0.193493  0.042603    0.231620  1.197047  0.007013    1.049620  \n9             0.183935  0.042603    0.220179  1.197047  0.007013    1.046477  \n10            0.255516  0.056634    0.307905  1.205032  0.009636    1.075696  \n11            0.183935  0.056634    0.221647  1.205032  0.009636    1.048452  \n12            0.174377  0.040061    0.156785  0.899112 -0.004495    0.979136  \n13            0.255516  0.040061    0.229738  0.899112 -0.004495    0.966533  \n14            0.193493  0.047382    0.434701  2.246605  0.026291    1.426693  \n15            0.108998  0.047382    0.244877  2.246605  0.026291    1.179941  \n16            0.255516  0.048907    0.448694  1.756031  0.021056    1.350401  \n17            0.108998  0.048907    0.191405  1.756031  0.021056    1.101913  ",
      "text/html": "<div>\n<style scoped>\n    .dataframe tbody tr th:only-of-type {\n        vertical-align: middle;\n    }\n\n    .dataframe tbody tr th {\n        vertical-align: top;\n    }\n\n    .dataframe thead th {\n        text-align: right;\n    }\n</style>\n<table border=\"1\" class=\"dataframe\">\n  <thead>\n    <tr style=\"text-align: right;\">\n      <th></th>\n      <th>antecedents</th>\n      <th>consequents</th>\n      <th>antecedent support</th>\n      <th>consequent support</th>\n      <th>support</th>\n      <th>confidence</th>\n      <th>lift</th>\n      <th>leverage</th>\n      <th>conviction</th>\n    </tr>\n  </thead>\n  <tbody>\n    <tr>\n      <th>0</th>\n      <td>(yogurt)</td>\n      <td>(whole milk)</td>\n      <td>0.139502</td>\n      <td>0.255516</td>\n      <td>0.056024</td>\n      <td>0.401603</td>\n      <td>1.571735</td>\n      <td>0.020379</td>\n      <td>1.244132</td>\n    </tr>\n    <tr>\n      <th>1</th>\n      <td>(whole milk)</td>\n      <td>(yogurt)</td>\n      <td>0.255516</td>\n      <td>0.139502</td>\n      <td>0.056024</td>\n      <td>0.219260</td>\n      <td>1.571735</td>\n      <td>0.020379</td>\n      <td>1.102157</td>\n    </tr>\n    <tr>\n      <th>2</th>\n      <td>(other vegetables)</td>\n      <td>(yogurt)</td>\n      <td>0.193493</td>\n      <td>0.139502</td>\n      <td>0.043416</td>\n      <td>0.224383</td>\n      <td>1.608457</td>\n      <td>0.016424</td>\n      <td>1.109436</td>\n    </tr>\n    <tr>\n      <th>3</th>\n      <td>(yogurt)</td>\n      <td>(other vegetables)</td>\n      <td>0.139502</td>\n      <td>0.193493</td>\n      <td>0.043416</td>\n      <td>0.311224</td>\n      <td>1.608457</td>\n      <td>0.016424</td>\n      <td>1.170929</td>\n    </tr>\n    <tr>\n      <th>4</th>\n      <td>(tropical fruit)</td>\n      <td>(whole milk)</td>\n      <td>0.104931</td>\n      <td>0.255516</td>\n      <td>0.042298</td>\n      <td>0.403101</td>\n      <td>1.577595</td>\n      <td>0.015486</td>\n      <td>1.247252</td>\n    </tr>\n    <tr>\n      <th>5</th>\n      <td>(whole milk)</td>\n      <td>(tropical fruit)</td>\n      <td>0.255516</td>\n      <td>0.104931</td>\n      <td>0.042298</td>\n      <td>0.165539</td>\n      <td>1.577595</td>\n      <td>0.015486</td>\n      <td>1.072631</td>\n    </tr>\n    <tr>\n      <th>6</th>\n      <td>(other vegetables)</td>\n      <td>(whole milk)</td>\n      <td>0.193493</td>\n      <td>0.255516</td>\n      <td>0.074835</td>\n      <td>0.386758</td>\n      <td>1.513634</td>\n      <td>0.025394</td>\n      <td>1.214013</td>\n    </tr>\n    <tr>\n      <th>7</th>\n      <td>(whole milk)</td>\n      <td>(other vegetables)</td>\n      <td>0.255516</td>\n      <td>0.193493</td>\n      <td>0.074835</td>\n      <td>0.292877</td>\n      <td>1.513634</td>\n      <td>0.025394</td>\n      <td>1.140548</td>\n    </tr>\n    <tr>\n      <th>8</th>\n      <td>(rolls/buns)</td>\n      <td>(other vegetables)</td>\n      <td>0.183935</td>\n      <td>0.193493</td>\n      <td>0.042603</td>\n      <td>0.231620</td>\n      <td>1.197047</td>\n      <td>0.007013</td>\n      <td>1.049620</td>\n    </tr>\n    <tr>\n      <th>9</th>\n      <td>(other vegetables)</td>\n      <td>(rolls/buns)</td>\n      <td>0.193493</td>\n      <td>0.183935</td>\n      <td>0.042603</td>\n      <td>0.220179</td>\n      <td>1.197047</td>\n      <td>0.007013</td>\n      <td>1.046477</td>\n    </tr>\n    <tr>\n      <th>10</th>\n      <td>(rolls/buns)</td>\n      <td>(whole milk)</td>\n      <td>0.183935</td>\n      <td>0.255516</td>\n      <td>0.056634</td>\n      <td>0.307905</td>\n      <td>1.205032</td>\n      <td>0.009636</td>\n      <td>1.075696</td>\n    </tr>\n    <tr>\n      <th>11</th>\n      <td>(whole milk)</td>\n      <td>(rolls/buns)</td>\n      <td>0.255516</td>\n      <td>0.183935</td>\n      <td>0.056634</td>\n      <td>0.221647</td>\n      <td>1.205032</td>\n      <td>0.009636</td>\n      <td>1.048452</td>\n    </tr>\n    <tr>\n      <th>12</th>\n      <td>(whole milk)</td>\n      <td>(soda)</td>\n      <td>0.255516</td>\n      <td>0.174377</td>\n      <td>0.040061</td>\n      <td>0.156785</td>\n      <td>0.899112</td>\n      <td>-0.004495</td>\n      <td>0.979136</td>\n    </tr>\n    <tr>\n      <th>13</th>\n      <td>(soda)</td>\n      <td>(whole milk)</td>\n      <td>0.174377</td>\n      <td>0.255516</td>\n      <td>0.040061</td>\n      <td>0.229738</td>\n      <td>0.899112</td>\n      <td>-0.004495</td>\n      <td>0.966533</td>\n    </tr>\n    <tr>\n      <th>14</th>\n      <td>(root vegetables)</td>\n      <td>(other vegetables)</td>\n      <td>0.108998</td>\n      <td>0.193493</td>\n      <td>0.047382</td>\n      <td>0.434701</td>\n      <td>2.246605</td>\n      <td>0.026291</td>\n      <td>1.426693</td>\n    </tr>\n    <tr>\n      <th>15</th>\n      <td>(other vegetables)</td>\n      <td>(root vegetables)</td>\n      <td>0.193493</td>\n      <td>0.108998</td>\n      <td>0.047382</td>\n      <td>0.244877</td>\n      <td>2.246605</td>\n      <td>0.026291</td>\n      <td>1.179941</td>\n    </tr>\n    <tr>\n      <th>16</th>\n      <td>(root vegetables)</td>\n      <td>(whole milk)</td>\n      <td>0.108998</td>\n      <td>0.255516</td>\n      <td>0.048907</td>\n      <td>0.448694</td>\n      <td>1.756031</td>\n      <td>0.021056</td>\n      <td>1.350401</td>\n    </tr>\n    <tr>\n      <th>17</th>\n      <td>(whole milk)</td>\n      <td>(root vegetables)</td>\n      <td>0.255516</td>\n      <td>0.108998</td>\n      <td>0.048907</td>\n      <td>0.191405</td>\n      <td>1.756031</td>\n      <td>0.021056</td>\n      <td>1.101913</td>\n    </tr>\n  </tbody>\n</table>\n</div>"
     },
     "execution_count": 192,
     "metadata": {},
     "output_type": "execute_result"
    }
   ],
   "source": [
    "from statistics import mean, median\n",
    "\n",
    "import numpy as np\n",
    "\n",
    "result = fpgrowth(data, min_support=0.04, use_colnames=True)\n",
    "rules = association_rules(result, min_threshold=0.1, metric='confidence')\n",
    "\n",
    "print(f'Среднее значение параметра confidence: {mean(rules[\"confidence\"])}')\n",
    "print(f'Медиана параметра confidence: {median(rules[\"confidence\"])}')\n",
    "print(f'СКО параметра confidence: {np.std(rules[\"confidence\"])}')\n",
    "rules"
   ],
   "metadata": {
    "collapsed": false,
    "pycharm": {
     "name": "#%%\n"
    }
   }
  },
  {
   "cell_type": "code",
   "execution_count": 193,
   "outputs": [
    {
     "name": "stdout",
     "output_type": "stream",
     "text": [
      "Среднее значение параметра support: 0.050240072304129246\n",
      "Медиана параметра support: 0.047381799694966954\n",
      "СКО параметра support: 0.010332111871899625\n"
     ]
    },
    {
     "data": {
      "text/plain": "           antecedents         consequents  antecedent support  \\\n0             (yogurt)        (whole milk)            0.139502   \n1         (whole milk)            (yogurt)            0.255516   \n2   (other vegetables)            (yogurt)            0.193493   \n3             (yogurt)  (other vegetables)            0.139502   \n4     (tropical fruit)        (whole milk)            0.104931   \n5         (whole milk)    (tropical fruit)            0.255516   \n6   (other vegetables)        (whole milk)            0.193493   \n7         (whole milk)  (other vegetables)            0.255516   \n8         (rolls/buns)  (other vegetables)            0.183935   \n9   (other vegetables)        (rolls/buns)            0.193493   \n10        (rolls/buns)        (whole milk)            0.183935   \n11        (whole milk)        (rolls/buns)            0.255516   \n12        (whole milk)              (soda)            0.255516   \n13              (soda)        (whole milk)            0.174377   \n14   (root vegetables)  (other vegetables)            0.108998   \n15  (other vegetables)   (root vegetables)            0.193493   \n16   (root vegetables)        (whole milk)            0.108998   \n17        (whole milk)   (root vegetables)            0.255516   \n\n    consequent support   support  confidence      lift  leverage  conviction  \n0             0.255516  0.056024    0.401603  1.571735  0.020379    1.244132  \n1             0.139502  0.056024    0.219260  1.571735  0.020379    1.102157  \n2             0.139502  0.043416    0.224383  1.608457  0.016424    1.109436  \n3             0.193493  0.043416    0.311224  1.608457  0.016424    1.170929  \n4             0.255516  0.042298    0.403101  1.577595  0.015486    1.247252  \n5             0.104931  0.042298    0.165539  1.577595  0.015486    1.072631  \n6             0.255516  0.074835    0.386758  1.513634  0.025394    1.214013  \n7             0.193493  0.074835    0.292877  1.513634  0.025394    1.140548  \n8             0.193493  0.042603    0.231620  1.197047  0.007013    1.049620  \n9             0.183935  0.042603    0.220179  1.197047  0.007013    1.046477  \n10            0.255516  0.056634    0.307905  1.205032  0.009636    1.075696  \n11            0.183935  0.056634    0.221647  1.205032  0.009636    1.048452  \n12            0.174377  0.040061    0.156785  0.899112 -0.004495    0.979136  \n13            0.255516  0.040061    0.229738  0.899112 -0.004495    0.966533  \n14            0.193493  0.047382    0.434701  2.246605  0.026291    1.426693  \n15            0.108998  0.047382    0.244877  2.246605  0.026291    1.179941  \n16            0.255516  0.048907    0.448694  1.756031  0.021056    1.350401  \n17            0.108998  0.048907    0.191405  1.756031  0.021056    1.101913  ",
      "text/html": "<div>\n<style scoped>\n    .dataframe tbody tr th:only-of-type {\n        vertical-align: middle;\n    }\n\n    .dataframe tbody tr th {\n        vertical-align: top;\n    }\n\n    .dataframe thead th {\n        text-align: right;\n    }\n</style>\n<table border=\"1\" class=\"dataframe\">\n  <thead>\n    <tr style=\"text-align: right;\">\n      <th></th>\n      <th>antecedents</th>\n      <th>consequents</th>\n      <th>antecedent support</th>\n      <th>consequent support</th>\n      <th>support</th>\n      <th>confidence</th>\n      <th>lift</th>\n      <th>leverage</th>\n      <th>conviction</th>\n    </tr>\n  </thead>\n  <tbody>\n    <tr>\n      <th>0</th>\n      <td>(yogurt)</td>\n      <td>(whole milk)</td>\n      <td>0.139502</td>\n      <td>0.255516</td>\n      <td>0.056024</td>\n      <td>0.401603</td>\n      <td>1.571735</td>\n      <td>0.020379</td>\n      <td>1.244132</td>\n    </tr>\n    <tr>\n      <th>1</th>\n      <td>(whole milk)</td>\n      <td>(yogurt)</td>\n      <td>0.255516</td>\n      <td>0.139502</td>\n      <td>0.056024</td>\n      <td>0.219260</td>\n      <td>1.571735</td>\n      <td>0.020379</td>\n      <td>1.102157</td>\n    </tr>\n    <tr>\n      <th>2</th>\n      <td>(other vegetables)</td>\n      <td>(yogurt)</td>\n      <td>0.193493</td>\n      <td>0.139502</td>\n      <td>0.043416</td>\n      <td>0.224383</td>\n      <td>1.608457</td>\n      <td>0.016424</td>\n      <td>1.109436</td>\n    </tr>\n    <tr>\n      <th>3</th>\n      <td>(yogurt)</td>\n      <td>(other vegetables)</td>\n      <td>0.139502</td>\n      <td>0.193493</td>\n      <td>0.043416</td>\n      <td>0.311224</td>\n      <td>1.608457</td>\n      <td>0.016424</td>\n      <td>1.170929</td>\n    </tr>\n    <tr>\n      <th>4</th>\n      <td>(tropical fruit)</td>\n      <td>(whole milk)</td>\n      <td>0.104931</td>\n      <td>0.255516</td>\n      <td>0.042298</td>\n      <td>0.403101</td>\n      <td>1.577595</td>\n      <td>0.015486</td>\n      <td>1.247252</td>\n    </tr>\n    <tr>\n      <th>5</th>\n      <td>(whole milk)</td>\n      <td>(tropical fruit)</td>\n      <td>0.255516</td>\n      <td>0.104931</td>\n      <td>0.042298</td>\n      <td>0.165539</td>\n      <td>1.577595</td>\n      <td>0.015486</td>\n      <td>1.072631</td>\n    </tr>\n    <tr>\n      <th>6</th>\n      <td>(other vegetables)</td>\n      <td>(whole milk)</td>\n      <td>0.193493</td>\n      <td>0.255516</td>\n      <td>0.074835</td>\n      <td>0.386758</td>\n      <td>1.513634</td>\n      <td>0.025394</td>\n      <td>1.214013</td>\n    </tr>\n    <tr>\n      <th>7</th>\n      <td>(whole milk)</td>\n      <td>(other vegetables)</td>\n      <td>0.255516</td>\n      <td>0.193493</td>\n      <td>0.074835</td>\n      <td>0.292877</td>\n      <td>1.513634</td>\n      <td>0.025394</td>\n      <td>1.140548</td>\n    </tr>\n    <tr>\n      <th>8</th>\n      <td>(rolls/buns)</td>\n      <td>(other vegetables)</td>\n      <td>0.183935</td>\n      <td>0.193493</td>\n      <td>0.042603</td>\n      <td>0.231620</td>\n      <td>1.197047</td>\n      <td>0.007013</td>\n      <td>1.049620</td>\n    </tr>\n    <tr>\n      <th>9</th>\n      <td>(other vegetables)</td>\n      <td>(rolls/buns)</td>\n      <td>0.193493</td>\n      <td>0.183935</td>\n      <td>0.042603</td>\n      <td>0.220179</td>\n      <td>1.197047</td>\n      <td>0.007013</td>\n      <td>1.046477</td>\n    </tr>\n    <tr>\n      <th>10</th>\n      <td>(rolls/buns)</td>\n      <td>(whole milk)</td>\n      <td>0.183935</td>\n      <td>0.255516</td>\n      <td>0.056634</td>\n      <td>0.307905</td>\n      <td>1.205032</td>\n      <td>0.009636</td>\n      <td>1.075696</td>\n    </tr>\n    <tr>\n      <th>11</th>\n      <td>(whole milk)</td>\n      <td>(rolls/buns)</td>\n      <td>0.255516</td>\n      <td>0.183935</td>\n      <td>0.056634</td>\n      <td>0.221647</td>\n      <td>1.205032</td>\n      <td>0.009636</td>\n      <td>1.048452</td>\n    </tr>\n    <tr>\n      <th>12</th>\n      <td>(whole milk)</td>\n      <td>(soda)</td>\n      <td>0.255516</td>\n      <td>0.174377</td>\n      <td>0.040061</td>\n      <td>0.156785</td>\n      <td>0.899112</td>\n      <td>-0.004495</td>\n      <td>0.979136</td>\n    </tr>\n    <tr>\n      <th>13</th>\n      <td>(soda)</td>\n      <td>(whole milk)</td>\n      <td>0.174377</td>\n      <td>0.255516</td>\n      <td>0.040061</td>\n      <td>0.229738</td>\n      <td>0.899112</td>\n      <td>-0.004495</td>\n      <td>0.966533</td>\n    </tr>\n    <tr>\n      <th>14</th>\n      <td>(root vegetables)</td>\n      <td>(other vegetables)</td>\n      <td>0.108998</td>\n      <td>0.193493</td>\n      <td>0.047382</td>\n      <td>0.434701</td>\n      <td>2.246605</td>\n      <td>0.026291</td>\n      <td>1.426693</td>\n    </tr>\n    <tr>\n      <th>15</th>\n      <td>(other vegetables)</td>\n      <td>(root vegetables)</td>\n      <td>0.193493</td>\n      <td>0.108998</td>\n      <td>0.047382</td>\n      <td>0.244877</td>\n      <td>2.246605</td>\n      <td>0.026291</td>\n      <td>1.179941</td>\n    </tr>\n    <tr>\n      <th>16</th>\n      <td>(root vegetables)</td>\n      <td>(whole milk)</td>\n      <td>0.108998</td>\n      <td>0.255516</td>\n      <td>0.048907</td>\n      <td>0.448694</td>\n      <td>1.756031</td>\n      <td>0.021056</td>\n      <td>1.350401</td>\n    </tr>\n    <tr>\n      <th>17</th>\n      <td>(whole milk)</td>\n      <td>(root vegetables)</td>\n      <td>0.255516</td>\n      <td>0.108998</td>\n      <td>0.048907</td>\n      <td>0.191405</td>\n      <td>1.756031</td>\n      <td>0.021056</td>\n      <td>1.101913</td>\n    </tr>\n  </tbody>\n</table>\n</div>"
     },
     "execution_count": 193,
     "metadata": {},
     "output_type": "execute_result"
    }
   ],
   "source": [
    "rules = association_rules(result, min_threshold=0.01, metric='support')\n",
    "\n",
    "print(f'Среднее значение параметра support: {mean(rules[\"support\"])}')\n",
    "print(f'Медиана параметра support: {median(rules[\"support\"])}')\n",
    "print(f'СКО параметра support: {np.std(rules[\"support\"])}')\n",
    "\n",
    "rules"
   ],
   "metadata": {
    "collapsed": false,
    "pycharm": {
     "name": "#%%\n"
    }
   }
  },
  {
   "cell_type": "code",
   "execution_count": 194,
   "outputs": [
    {
     "name": "stdout",
     "output_type": "stream",
     "text": [
      "Среднее значение параметра leverage: 0.020838559154364243\n",
      "Медиана параметра leverage: 0.02071778653838151\n",
      "СКО параметра leverage: 0.004059627576864452\n"
     ]
    },
    {
     "data": {
      "text/plain": "           antecedents         consequents  antecedent support  \\\n0             (yogurt)        (whole milk)            0.139502   \n1         (whole milk)            (yogurt)            0.255516   \n2   (other vegetables)            (yogurt)            0.193493   \n3             (yogurt)  (other vegetables)            0.139502   \n4     (tropical fruit)        (whole milk)            0.104931   \n5         (whole milk)    (tropical fruit)            0.255516   \n6   (other vegetables)        (whole milk)            0.193493   \n7         (whole milk)  (other vegetables)            0.255516   \n8    (root vegetables)  (other vegetables)            0.108998   \n9   (other vegetables)   (root vegetables)            0.193493   \n10   (root vegetables)        (whole milk)            0.108998   \n11        (whole milk)   (root vegetables)            0.255516   \n\n    consequent support   support  confidence      lift  leverage  conviction  \n0             0.255516  0.056024    0.401603  1.571735  0.020379    1.244132  \n1             0.139502  0.056024    0.219260  1.571735  0.020379    1.102157  \n2             0.139502  0.043416    0.224383  1.608457  0.016424    1.109436  \n3             0.193493  0.043416    0.311224  1.608457  0.016424    1.170929  \n4             0.255516  0.042298    0.403101  1.577595  0.015486    1.247252  \n5             0.104931  0.042298    0.165539  1.577595  0.015486    1.072631  \n6             0.255516  0.074835    0.386758  1.513634  0.025394    1.214013  \n7             0.193493  0.074835    0.292877  1.513634  0.025394    1.140548  \n8             0.193493  0.047382    0.434701  2.246605  0.026291    1.426693  \n9             0.108998  0.047382    0.244877  2.246605  0.026291    1.179941  \n10            0.255516  0.048907    0.448694  1.756031  0.021056    1.350401  \n11            0.108998  0.048907    0.191405  1.756031  0.021056    1.101913  ",
      "text/html": "<div>\n<style scoped>\n    .dataframe tbody tr th:only-of-type {\n        vertical-align: middle;\n    }\n\n    .dataframe tbody tr th {\n        vertical-align: top;\n    }\n\n    .dataframe thead th {\n        text-align: right;\n    }\n</style>\n<table border=\"1\" class=\"dataframe\">\n  <thead>\n    <tr style=\"text-align: right;\">\n      <th></th>\n      <th>antecedents</th>\n      <th>consequents</th>\n      <th>antecedent support</th>\n      <th>consequent support</th>\n      <th>support</th>\n      <th>confidence</th>\n      <th>lift</th>\n      <th>leverage</th>\n      <th>conviction</th>\n    </tr>\n  </thead>\n  <tbody>\n    <tr>\n      <th>0</th>\n      <td>(yogurt)</td>\n      <td>(whole milk)</td>\n      <td>0.139502</td>\n      <td>0.255516</td>\n      <td>0.056024</td>\n      <td>0.401603</td>\n      <td>1.571735</td>\n      <td>0.020379</td>\n      <td>1.244132</td>\n    </tr>\n    <tr>\n      <th>1</th>\n      <td>(whole milk)</td>\n      <td>(yogurt)</td>\n      <td>0.255516</td>\n      <td>0.139502</td>\n      <td>0.056024</td>\n      <td>0.219260</td>\n      <td>1.571735</td>\n      <td>0.020379</td>\n      <td>1.102157</td>\n    </tr>\n    <tr>\n      <th>2</th>\n      <td>(other vegetables)</td>\n      <td>(yogurt)</td>\n      <td>0.193493</td>\n      <td>0.139502</td>\n      <td>0.043416</td>\n      <td>0.224383</td>\n      <td>1.608457</td>\n      <td>0.016424</td>\n      <td>1.109436</td>\n    </tr>\n    <tr>\n      <th>3</th>\n      <td>(yogurt)</td>\n      <td>(other vegetables)</td>\n      <td>0.139502</td>\n      <td>0.193493</td>\n      <td>0.043416</td>\n      <td>0.311224</td>\n      <td>1.608457</td>\n      <td>0.016424</td>\n      <td>1.170929</td>\n    </tr>\n    <tr>\n      <th>4</th>\n      <td>(tropical fruit)</td>\n      <td>(whole milk)</td>\n      <td>0.104931</td>\n      <td>0.255516</td>\n      <td>0.042298</td>\n      <td>0.403101</td>\n      <td>1.577595</td>\n      <td>0.015486</td>\n      <td>1.247252</td>\n    </tr>\n    <tr>\n      <th>5</th>\n      <td>(whole milk)</td>\n      <td>(tropical fruit)</td>\n      <td>0.255516</td>\n      <td>0.104931</td>\n      <td>0.042298</td>\n      <td>0.165539</td>\n      <td>1.577595</td>\n      <td>0.015486</td>\n      <td>1.072631</td>\n    </tr>\n    <tr>\n      <th>6</th>\n      <td>(other vegetables)</td>\n      <td>(whole milk)</td>\n      <td>0.193493</td>\n      <td>0.255516</td>\n      <td>0.074835</td>\n      <td>0.386758</td>\n      <td>1.513634</td>\n      <td>0.025394</td>\n      <td>1.214013</td>\n    </tr>\n    <tr>\n      <th>7</th>\n      <td>(whole milk)</td>\n      <td>(other vegetables)</td>\n      <td>0.255516</td>\n      <td>0.193493</td>\n      <td>0.074835</td>\n      <td>0.292877</td>\n      <td>1.513634</td>\n      <td>0.025394</td>\n      <td>1.140548</td>\n    </tr>\n    <tr>\n      <th>8</th>\n      <td>(root vegetables)</td>\n      <td>(other vegetables)</td>\n      <td>0.108998</td>\n      <td>0.193493</td>\n      <td>0.047382</td>\n      <td>0.434701</td>\n      <td>2.246605</td>\n      <td>0.026291</td>\n      <td>1.426693</td>\n    </tr>\n    <tr>\n      <th>9</th>\n      <td>(other vegetables)</td>\n      <td>(root vegetables)</td>\n      <td>0.193493</td>\n      <td>0.108998</td>\n      <td>0.047382</td>\n      <td>0.244877</td>\n      <td>2.246605</td>\n      <td>0.026291</td>\n      <td>1.179941</td>\n    </tr>\n    <tr>\n      <th>10</th>\n      <td>(root vegetables)</td>\n      <td>(whole milk)</td>\n      <td>0.108998</td>\n      <td>0.255516</td>\n      <td>0.048907</td>\n      <td>0.448694</td>\n      <td>1.756031</td>\n      <td>0.021056</td>\n      <td>1.350401</td>\n    </tr>\n    <tr>\n      <th>11</th>\n      <td>(whole milk)</td>\n      <td>(root vegetables)</td>\n      <td>0.255516</td>\n      <td>0.108998</td>\n      <td>0.048907</td>\n      <td>0.191405</td>\n      <td>1.756031</td>\n      <td>0.021056</td>\n      <td>1.101913</td>\n    </tr>\n  </tbody>\n</table>\n</div>"
     },
     "execution_count": 194,
     "metadata": {},
     "output_type": "execute_result"
    }
   ],
   "source": [
    "rules = association_rules(result, min_threshold=0.01, metric='leverage')\n",
    "\n",
    "print(f'Среднее значение параметра leverage: {mean(rules[\"leverage\"])}')\n",
    "print(f'Медиана параметра leverage: {median(rules[\"leverage\"])}')\n",
    "print(f'СКО параметра leverage: {np.std(rules[\"leverage\"])}')\n",
    "\n",
    "rules"
   ],
   "metadata": {
    "collapsed": false,
    "pycharm": {
     "name": "#%%\n"
    }
   }
  },
  {
   "cell_type": "code",
   "execution_count": 195,
   "outputs": [
    {
     "name": "stdout",
     "output_type": "stream",
     "text": [
      "Среднее значение параметра conviction: 1.140331125249048\n",
      "Медиана параметра conviction: 1.1057966943491302\n",
      "СКО параметра conviction: 0.11799021582624744\n"
     ]
    },
    {
     "data": {
      "text/plain": "           antecedents         consequents  antecedent support  \\\n0             (yogurt)        (whole milk)            0.139502   \n1         (whole milk)            (yogurt)            0.255516   \n2   (other vegetables)            (yogurt)            0.193493   \n3             (yogurt)  (other vegetables)            0.139502   \n4     (tropical fruit)        (whole milk)            0.104931   \n5         (whole milk)    (tropical fruit)            0.255516   \n6   (other vegetables)        (whole milk)            0.193493   \n7         (whole milk)  (other vegetables)            0.255516   \n8         (rolls/buns)  (other vegetables)            0.183935   \n9   (other vegetables)        (rolls/buns)            0.193493   \n10        (rolls/buns)        (whole milk)            0.183935   \n11        (whole milk)        (rolls/buns)            0.255516   \n12        (whole milk)              (soda)            0.255516   \n13              (soda)        (whole milk)            0.174377   \n14   (root vegetables)  (other vegetables)            0.108998   \n15  (other vegetables)   (root vegetables)            0.193493   \n16   (root vegetables)        (whole milk)            0.108998   \n17        (whole milk)   (root vegetables)            0.255516   \n\n    consequent support   support  confidence      lift  leverage  conviction  \n0             0.255516  0.056024    0.401603  1.571735  0.020379    1.244132  \n1             0.139502  0.056024    0.219260  1.571735  0.020379    1.102157  \n2             0.139502  0.043416    0.224383  1.608457  0.016424    1.109436  \n3             0.193493  0.043416    0.311224  1.608457  0.016424    1.170929  \n4             0.255516  0.042298    0.403101  1.577595  0.015486    1.247252  \n5             0.104931  0.042298    0.165539  1.577595  0.015486    1.072631  \n6             0.255516  0.074835    0.386758  1.513634  0.025394    1.214013  \n7             0.193493  0.074835    0.292877  1.513634  0.025394    1.140548  \n8             0.193493  0.042603    0.231620  1.197047  0.007013    1.049620  \n9             0.183935  0.042603    0.220179  1.197047  0.007013    1.046477  \n10            0.255516  0.056634    0.307905  1.205032  0.009636    1.075696  \n11            0.183935  0.056634    0.221647  1.205032  0.009636    1.048452  \n12            0.174377  0.040061    0.156785  0.899112 -0.004495    0.979136  \n13            0.255516  0.040061    0.229738  0.899112 -0.004495    0.966533  \n14            0.193493  0.047382    0.434701  2.246605  0.026291    1.426693  \n15            0.108998  0.047382    0.244877  2.246605  0.026291    1.179941  \n16            0.255516  0.048907    0.448694  1.756031  0.021056    1.350401  \n17            0.108998  0.048907    0.191405  1.756031  0.021056    1.101913  ",
      "text/html": "<div>\n<style scoped>\n    .dataframe tbody tr th:only-of-type {\n        vertical-align: middle;\n    }\n\n    .dataframe tbody tr th {\n        vertical-align: top;\n    }\n\n    .dataframe thead th {\n        text-align: right;\n    }\n</style>\n<table border=\"1\" class=\"dataframe\">\n  <thead>\n    <tr style=\"text-align: right;\">\n      <th></th>\n      <th>antecedents</th>\n      <th>consequents</th>\n      <th>antecedent support</th>\n      <th>consequent support</th>\n      <th>support</th>\n      <th>confidence</th>\n      <th>lift</th>\n      <th>leverage</th>\n      <th>conviction</th>\n    </tr>\n  </thead>\n  <tbody>\n    <tr>\n      <th>0</th>\n      <td>(yogurt)</td>\n      <td>(whole milk)</td>\n      <td>0.139502</td>\n      <td>0.255516</td>\n      <td>0.056024</td>\n      <td>0.401603</td>\n      <td>1.571735</td>\n      <td>0.020379</td>\n      <td>1.244132</td>\n    </tr>\n    <tr>\n      <th>1</th>\n      <td>(whole milk)</td>\n      <td>(yogurt)</td>\n      <td>0.255516</td>\n      <td>0.139502</td>\n      <td>0.056024</td>\n      <td>0.219260</td>\n      <td>1.571735</td>\n      <td>0.020379</td>\n      <td>1.102157</td>\n    </tr>\n    <tr>\n      <th>2</th>\n      <td>(other vegetables)</td>\n      <td>(yogurt)</td>\n      <td>0.193493</td>\n      <td>0.139502</td>\n      <td>0.043416</td>\n      <td>0.224383</td>\n      <td>1.608457</td>\n      <td>0.016424</td>\n      <td>1.109436</td>\n    </tr>\n    <tr>\n      <th>3</th>\n      <td>(yogurt)</td>\n      <td>(other vegetables)</td>\n      <td>0.139502</td>\n      <td>0.193493</td>\n      <td>0.043416</td>\n      <td>0.311224</td>\n      <td>1.608457</td>\n      <td>0.016424</td>\n      <td>1.170929</td>\n    </tr>\n    <tr>\n      <th>4</th>\n      <td>(tropical fruit)</td>\n      <td>(whole milk)</td>\n      <td>0.104931</td>\n      <td>0.255516</td>\n      <td>0.042298</td>\n      <td>0.403101</td>\n      <td>1.577595</td>\n      <td>0.015486</td>\n      <td>1.247252</td>\n    </tr>\n    <tr>\n      <th>5</th>\n      <td>(whole milk)</td>\n      <td>(tropical fruit)</td>\n      <td>0.255516</td>\n      <td>0.104931</td>\n      <td>0.042298</td>\n      <td>0.165539</td>\n      <td>1.577595</td>\n      <td>0.015486</td>\n      <td>1.072631</td>\n    </tr>\n    <tr>\n      <th>6</th>\n      <td>(other vegetables)</td>\n      <td>(whole milk)</td>\n      <td>0.193493</td>\n      <td>0.255516</td>\n      <td>0.074835</td>\n      <td>0.386758</td>\n      <td>1.513634</td>\n      <td>0.025394</td>\n      <td>1.214013</td>\n    </tr>\n    <tr>\n      <th>7</th>\n      <td>(whole milk)</td>\n      <td>(other vegetables)</td>\n      <td>0.255516</td>\n      <td>0.193493</td>\n      <td>0.074835</td>\n      <td>0.292877</td>\n      <td>1.513634</td>\n      <td>0.025394</td>\n      <td>1.140548</td>\n    </tr>\n    <tr>\n      <th>8</th>\n      <td>(rolls/buns)</td>\n      <td>(other vegetables)</td>\n      <td>0.183935</td>\n      <td>0.193493</td>\n      <td>0.042603</td>\n      <td>0.231620</td>\n      <td>1.197047</td>\n      <td>0.007013</td>\n      <td>1.049620</td>\n    </tr>\n    <tr>\n      <th>9</th>\n      <td>(other vegetables)</td>\n      <td>(rolls/buns)</td>\n      <td>0.193493</td>\n      <td>0.183935</td>\n      <td>0.042603</td>\n      <td>0.220179</td>\n      <td>1.197047</td>\n      <td>0.007013</td>\n      <td>1.046477</td>\n    </tr>\n    <tr>\n      <th>10</th>\n      <td>(rolls/buns)</td>\n      <td>(whole milk)</td>\n      <td>0.183935</td>\n      <td>0.255516</td>\n      <td>0.056634</td>\n      <td>0.307905</td>\n      <td>1.205032</td>\n      <td>0.009636</td>\n      <td>1.075696</td>\n    </tr>\n    <tr>\n      <th>11</th>\n      <td>(whole milk)</td>\n      <td>(rolls/buns)</td>\n      <td>0.255516</td>\n      <td>0.183935</td>\n      <td>0.056634</td>\n      <td>0.221647</td>\n      <td>1.205032</td>\n      <td>0.009636</td>\n      <td>1.048452</td>\n    </tr>\n    <tr>\n      <th>12</th>\n      <td>(whole milk)</td>\n      <td>(soda)</td>\n      <td>0.255516</td>\n      <td>0.174377</td>\n      <td>0.040061</td>\n      <td>0.156785</td>\n      <td>0.899112</td>\n      <td>-0.004495</td>\n      <td>0.979136</td>\n    </tr>\n    <tr>\n      <th>13</th>\n      <td>(soda)</td>\n      <td>(whole milk)</td>\n      <td>0.174377</td>\n      <td>0.255516</td>\n      <td>0.040061</td>\n      <td>0.229738</td>\n      <td>0.899112</td>\n      <td>-0.004495</td>\n      <td>0.966533</td>\n    </tr>\n    <tr>\n      <th>14</th>\n      <td>(root vegetables)</td>\n      <td>(other vegetables)</td>\n      <td>0.108998</td>\n      <td>0.193493</td>\n      <td>0.047382</td>\n      <td>0.434701</td>\n      <td>2.246605</td>\n      <td>0.026291</td>\n      <td>1.426693</td>\n    </tr>\n    <tr>\n      <th>15</th>\n      <td>(other vegetables)</td>\n      <td>(root vegetables)</td>\n      <td>0.193493</td>\n      <td>0.108998</td>\n      <td>0.047382</td>\n      <td>0.244877</td>\n      <td>2.246605</td>\n      <td>0.026291</td>\n      <td>1.179941</td>\n    </tr>\n    <tr>\n      <th>16</th>\n      <td>(root vegetables)</td>\n      <td>(whole milk)</td>\n      <td>0.108998</td>\n      <td>0.255516</td>\n      <td>0.048907</td>\n      <td>0.448694</td>\n      <td>1.756031</td>\n      <td>0.021056</td>\n      <td>1.350401</td>\n    </tr>\n    <tr>\n      <th>17</th>\n      <td>(whole milk)</td>\n      <td>(root vegetables)</td>\n      <td>0.255516</td>\n      <td>0.108998</td>\n      <td>0.048907</td>\n      <td>0.191405</td>\n      <td>1.756031</td>\n      <td>0.021056</td>\n      <td>1.101913</td>\n    </tr>\n  </tbody>\n</table>\n</div>"
     },
     "execution_count": 195,
     "metadata": {},
     "output_type": "execute_result"
    }
   ],
   "source": [
    "rules = association_rules(result, min_threshold=0.01, metric='conviction')\n",
    "\n",
    "print(f'Среднее значение параметра conviction: {mean(rules[\"conviction\"])}')\n",
    "print(f'Медиана параметра conviction: {median(rules[\"conviction\"])}')\n",
    "print(f'СКО параметра conviction: {np.std(rules[\"conviction\"])}')\n",
    "\n",
    "rules"
   ],
   "metadata": {
    "collapsed": false,
    "pycharm": {
     "name": "#%%\n"
    }
   }
  },
  {
   "cell_type": "code",
   "execution_count": 277,
   "outputs": [],
   "source": [
    "rules = association_rules(result, min_threshold=0.4, metric='confidence')"
   ],
   "metadata": {
    "collapsed": false,
    "pycharm": {
     "name": "#%%\n"
    }
   }
  },
  {
   "cell_type": "code",
   "execution_count": 382,
   "outputs": [
    {
     "data": {
      "text/plain": "<Figure size 640x480 with 1 Axes>",
      "image/png": "[encoded data removed]"
     },
     "metadata": {},
     "output_type": "display_data"
    }
   ],
   "source": [
    "import networkx as nx\n",
    "\n",
    "antecedents = rules[\"antecedents\"]\n",
    "consequents = rules[\"consequents\"]\n",
    "confidence = rules[\"confidence\"]\n",
    "supports = rules[\"support\"]\n",
    "\n",
    "edges = []\n",
    "dict_labels = {}\n",
    "\n",
    "for i in range(len(antecedents)):\n",
    "    edges.append([str(list(antecedents[i])[0]), str(list(consequents[i])[0])])\n",
    "    dict_labels[(str(list(antecedents[i])[0]), str(list(consequents[i])[0]))] = round(confidence[i], 2)\n",
    "\n",
    "G = nx.DiGraph()\n",
    "for i in edges:\n",
    "    G.add_nodes_from(i)\n",
    "    G.add_edges_from([tuple(i)])\n",
    "\n",
    "pos = nx.spring_layout(G)\n",
    "plt.figure()\n",
    "for i in range(len(dict_labels.items())):\n",
    "    nx.draw(\n",
    "        G, pos, edge_color='black', width=round(supports[i], 2), linewidths=1,\n",
    "        node_size=3000, node_color='pink', alpha=0.9, font_size=10,\n",
    "        labels={node: node for node in G.nodes()})\n",
    "\n",
    "nx.draw_networkx_edge_labels(\n",
    "    G, pos,\n",
    "    edge_labels=dict_labels,\n",
    "    font_color='red'\n",
    ")\n",
    "\n",
    "plt.axis('off')\n",
    "plt.show()\n"
   ],
   "metadata": {
    "collapsed": false,
    "pycharm": {
     "name": "#%%\n"
    }
   }
  },
  {
   "cell_type": "code",
   "execution_count": 385,
   "outputs": [
    {
     "data": {
      "text/plain": "'Из полученного графа можно четко увидеть связи между антецедентами и консеквентами и уровень поддержки между ними.'"
     },
     "execution_count": 385,
     "metadata": {},
     "output_type": "execute_result"
    }
   ],
   "source": [
    "'Из полученного графа можно четко увидеть связи между антецедентами и консеквентами и уровень поддержки между ними.'"
   ],
   "metadata": {
    "collapsed": false,
    "pycharm": {
     "name": "#%%\n"
    }
   }
  },
  {
   "cell_type": "code",
   "execution_count": 386,
   "outputs": [
    {
     "data": {
      "text/plain": "'Дополнительно данные можно было визуализировать с помощью Yellowbricks.'"
     },
     "execution_count": 386,
     "metadata": {},
     "output_type": "execute_result"
    }
   ],
   "source": [
    "'Дополнительно данные можно было визуализировать с помощью Yellowbricks.'"
   ],
   "metadata": {
    "collapsed": false,
    "pycharm": {
     "name": "#%%\n"
    }
   }
  },
  {
   "cell_type": "code",
   "execution_count": null,
   "outputs": [],
   "source": [],
   "metadata": {
    "collapsed": false,
    "pycharm": {
     "name": "#%%\n"
    }
   }
  }
 ],
 "metadata": {
  "kernelspec": {
   "display_name": "Python 3",
   "language": "python",
   "name": "python3"
  },
  "language_info": {
   "codemirror_mode": {
    "name": "ipython",
    "version": 2
   },
   "file_extension": ".py",
   "mimetype": "text/x-python",
   "name": "python",
   "nbconvert_exporter": "python",
   "pygments_lexer": "ipython2",
   "version": "2.7.6"
  }
 },
 "nbformat": 4,
 "nbformat_minor": 0
}