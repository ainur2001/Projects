{
 "cells": [
  {
   "cell_type": "code",
   "execution_count": 643,
   "metadata": {
    "collapsed": true
   },
   "outputs": [],
   "source": [
    "import pandas as pd\n",
    "import numpy as np\n",
    "\n",
    "all_data = pd.read_csv('dataset_group.csv', header=None)\n",
    "#В файле нет строки с названием столбцов, поэтому параметр header равен None.\n",
    "#Интерес представляет информация об id покупателя - столбец с названием 1\n",
    "#Название купленного товара хранится в столбце с названием 2"
   ]
  },
  {
   "cell_type": "code",
   "execution_count": 644,
   "outputs": [
    {
     "name": "stdout",
     "output_type": "stream",
     "text": [
      "1139\n"
     ]
    }
   ],
   "source": [
    "unique_id = list(set(all_data[1]))\n",
    "print(len(unique_id))  #Выведем количество id"
   ],
   "metadata": {
    "collapsed": false,
    "pycharm": {
     "name": "#%%\n"
    }
   }
  },
  {
   "cell_type": "code",
   "execution_count": 645,
   "outputs": [
    {
     "name": "stdout",
     "output_type": "stream",
     "text": [
      "38\n"
     ]
    }
   ],
   "source": [
    "items = list(set(all_data[2]))\n",
    "print(len(items))  #Выведем количество товаров\n"
   ],
   "metadata": {
    "collapsed": false,
    "pycharm": {
     "name": "#%%\n"
    }
   }
  },
  {
   "cell_type": "code",
   "execution_count": 646,
   "outputs": [],
   "source": [
    "dataset = [[elem for elem in all_data[all_data[1] == id][2] if elem in\n",
    "            items] for id in unique_id]"
   ],
   "metadata": {
    "collapsed": false,
    "pycharm": {
     "name": "#%%\n"
    }
   }
  },
  {
   "cell_type": "code",
   "execution_count": 647,
   "outputs": [],
   "source": [
    "from mlxtend.preprocessing import TransactionEncoder\n",
    "\n",
    "te = TransactionEncoder()\n",
    "te_ary = te.fit(dataset).transform(dataset)\n",
    "df = pd.DataFrame(te_ary, columns=te.columns_)"
   ],
   "metadata": {
    "collapsed": false,
    "pycharm": {
     "name": "#%%\n"
    }
   }
  },
  {
   "cell_type": "code",
   "execution_count": 648,
   "outputs": [
    {
     "name": "stdout",
     "output_type": "stream",
     "text": [
      "      all- purpose  aluminum foil  bagels   beef  butter  cereals  cheeses  \\\n",
      "0             True           True   False   True    True    False    False   \n",
      "1            False           True   False  False   False     True     True   \n",
      "2            False          False    True  False   False     True     True   \n",
      "3             True          False   False  False   False     True    False   \n",
      "4             True          False   False  False   False    False    False   \n",
      "...            ...            ...     ...    ...     ...      ...      ...   \n",
      "1134          True          False   False   True   False     True     True   \n",
      "1135         False          False   False  False   False     True     True   \n",
      "1136         False          False    True   True   False    False    False   \n",
      "1137          True          False   False   True   False    False     True   \n",
      "1138         False          False   False  False   False    False    False   \n",
      "\n",
      "      coffee/tea  dinner rolls  dishwashing liquid/detergent  ...  shampoo  \\\n",
      "0          False          True                         False  ...     True   \n",
      "1          False         False                          True  ...     True   \n",
      "2          False          True                         False  ...     True   \n",
      "3          False         False                         False  ...    False   \n",
      "4          False          True                         False  ...    False   \n",
      "...          ...           ...                           ...  ...      ...   \n",
      "1134        True          True                          True  ...     True   \n",
      "1135        True          True                          True  ...    False   \n",
      "1136       False          True                          True  ...     True   \n",
      "1137       False         False                         False  ...    False   \n",
      "1138       False         False                         False  ...     True   \n",
      "\n",
      "       soap   soda  spaghetti sauce  sugar  toilet paper  tortillas  \\\n",
      "0      True   True            False  False         False      False   \n",
      "1     False  False            False  False          True       True   \n",
      "2      True   True             True  False          True      False   \n",
      "3     False   True            False  False          True      False   \n",
      "4     False   True             True  False          True       True   \n",
      "...     ...    ...              ...    ...           ...        ...   \n",
      "1134   True  False            False   True         False      False   \n",
      "1135   True  False             True  False         False      False   \n",
      "1136   True  False            False   True         False       True   \n",
      "1137   True   True             True   True          True      False   \n",
      "1138  False   True            False  False         False      False   \n",
      "\n",
      "      vegetables  waffles  yogurt  \n",
      "0           True    False    True  \n",
      "1           True     True    True  \n",
      "2           True    False   False  \n",
      "3          False    False   False  \n",
      "4           True     True    True  \n",
      "...          ...      ...     ...  \n",
      "1134       False    False   False  \n",
      "1135        True    False   False  \n",
      "1136        True    False    True  \n",
      "1137        True     True    True  \n",
      "1138        True    False   False  \n",
      "\n",
      "[1139 rows x 38 columns]\n"
     ]
    }
   ],
   "source": [
    "print(df)"
   ],
   "metadata": {
    "collapsed": false,
    "pycharm": {
     "name": "#%%\n"
    }
   }
  },
  {
   "cell_type": "code",
   "execution_count": 649,
   "outputs": [
    {
     "data": {
      "text/plain": "'Данные представляются в виде таблицы (матрицы), где для каждого человека напротив товара стоит булево значение.'"
     },
     "execution_count": 649,
     "metadata": {},
     "output_type": "execute_result"
    }
   ],
   "source": [
    "'Данные представляются в виде таблицы (матрицы), где для каждого человека напротив товара стоит булево значение.'"
   ],
   "metadata": {
    "collapsed": false,
    "pycharm": {
     "name": "#%%\n"
    }
   }
  },
  {
   "cell_type": "code",
   "execution_count": 650,
   "outputs": [
    {
     "name": "stdout",
     "output_type": "stream",
     "text": [
      "     support                                    itemsets  length\n",
      "0   0.374890                              (all- purpose)       1\n",
      "1   0.384548                             (aluminum foil)       1\n",
      "2   0.385426                                    (bagels)       1\n",
      "3   0.374890                                      (beef)       1\n",
      "4   0.367867                                    (butter)       1\n",
      "5   0.395961                                   (cereals)       1\n",
      "6   0.390694                                   (cheeses)       1\n",
      "7   0.379280                                (coffee/tea)       1\n",
      "8   0.388938                              (dinner rolls)       1\n",
      "9   0.388060              (dishwashing liquid/detergent)       1\n",
      "10  0.389816                                      (eggs)       1\n",
      "11  0.352941                                     (flour)       1\n",
      "12  0.370500                                    (fruits)       1\n",
      "13  0.345917                                 (hand soap)       1\n",
      "14  0.398595                                 (ice cream)       1\n",
      "15  0.375768                          (individual meals)       1\n",
      "16  0.376646                                     (juice)       1\n",
      "17  0.371378                                   (ketchup)       1\n",
      "18  0.378402                         (laundry detergent)       1\n",
      "19  0.395083                                (lunch meat)       1\n",
      "20  0.380158                                      (milk)       1\n",
      "21  0.375768                                     (mixes)       1\n",
      "22  0.362599                              (paper towels)       1\n",
      "23  0.371378                                     (pasta)       1\n",
      "24  0.355575                                      (pork)       1\n",
      "25  0.421422                                   (poultry)       1\n",
      "26  0.367867                             (sandwich bags)       1\n",
      "27  0.349429                           (sandwich loaves)       1\n",
      "28  0.368745                                   (shampoo)       1\n",
      "29  0.379280                                      (soap)       1\n",
      "30  0.390694                                      (soda)       1\n",
      "31  0.373134                           (spaghetti sauce)       1\n",
      "32  0.360843                                     (sugar)       1\n",
      "33  0.378402                              (toilet paper)       1\n",
      "34  0.369622                                 (tortillas)       1\n",
      "35  0.739245                                (vegetables)       1\n",
      "36  0.394205                                   (waffles)       1\n",
      "37  0.384548                                    (yogurt)       1\n",
      "38  0.310799                 (vegetables, aluminum foil)       2\n",
      "39  0.300263                        (vegetables, bagels)       2\n",
      "40  0.310799                       (vegetables, cereals)       2\n",
      "41  0.309043                       (vegetables, cheeses)       2\n",
      "42  0.308165                  (vegetables, dinner rolls)       2\n",
      "43  0.306409  (dishwashing liquid/detergent, vegetables)       2\n",
      "44  0.326602                          (vegetables, eggs)       2\n",
      "45  0.302897                     (vegetables, ice cream)       2\n",
      "46  0.309043             (laundry detergent, vegetables)       2\n",
      "47  0.311677                    (lunch meat, vegetables)       2\n",
      "48  0.331870                       (vegetables, poultry)       2\n",
      "49  0.305531                          (vegetables, soda)       2\n",
      "50  0.315189                       (waffles, vegetables)       2\n",
      "51  0.319579                        (vegetables, yogurt)       2\n"
     ]
    }
   ],
   "source": [
    "from mlxtend.frequent_patterns import apriori\n",
    "\n",
    "results = apriori(df, min_support=0.3, use_colnames=True)\n",
    "results['length'] = results['itemsets'].apply(lambda x: len(x))  #добавление размера набора\n",
    "print(results)"
   ],
   "metadata": {
    "collapsed": false,
    "pycharm": {
     "name": "#%%\n"
    }
   }
  },
  {
   "cell_type": "code",
   "execution_count": 651,
   "outputs": [
    {
     "data": {
      "text/plain": "'Таблица представляет из себя набор элементов с минимальным выставленным порогом поддержки 0.3. То есть в датафрейме данный набор встречается минимум 30%. Length показывает количество элементов в наборе'"
     },
     "execution_count": 651,
     "metadata": {},
     "output_type": "execute_result"
    }
   ],
   "source": [
    "'Таблица представляет из себя набор элементов с минимальным выставленным порогом поддержки 0.3. То есть в датафрейме данный набор встречается минимум 30%. Length показывает количество элементов в наборе'"
   ],
   "metadata": {
    "collapsed": false,
    "pycharm": {
     "name": "#%%\n"
    }
   }
  },
  {
   "cell_type": "code",
   "execution_count": 652,
   "outputs": [
    {
     "name": "stdout",
     "output_type": "stream",
     "text": [
      "     support                        itemsets\n",
      "0   0.374890                  (all- purpose)\n",
      "1   0.384548                 (aluminum foil)\n",
      "2   0.385426                        (bagels)\n",
      "3   0.374890                          (beef)\n",
      "4   0.367867                        (butter)\n",
      "5   0.395961                       (cereals)\n",
      "6   0.390694                       (cheeses)\n",
      "7   0.379280                    (coffee/tea)\n",
      "8   0.388938                  (dinner rolls)\n",
      "9   0.388060  (dishwashing liquid/detergent)\n",
      "10  0.389816                          (eggs)\n",
      "11  0.352941                         (flour)\n",
      "12  0.370500                        (fruits)\n",
      "13  0.345917                     (hand soap)\n",
      "14  0.398595                     (ice cream)\n",
      "15  0.375768              (individual meals)\n",
      "16  0.376646                         (juice)\n",
      "17  0.371378                       (ketchup)\n",
      "18  0.378402             (laundry detergent)\n",
      "19  0.395083                    (lunch meat)\n",
      "20  0.380158                          (milk)\n",
      "21  0.375768                         (mixes)\n",
      "22  0.362599                  (paper towels)\n",
      "23  0.371378                         (pasta)\n",
      "24  0.355575                          (pork)\n",
      "25  0.421422                       (poultry)\n",
      "26  0.367867                 (sandwich bags)\n",
      "27  0.349429               (sandwich loaves)\n",
      "28  0.368745                       (shampoo)\n",
      "29  0.379280                          (soap)\n",
      "30  0.390694                          (soda)\n",
      "31  0.373134               (spaghetti sauce)\n",
      "32  0.360843                         (sugar)\n",
      "33  0.378402                  (toilet paper)\n",
      "34  0.369622                     (tortillas)\n",
      "35  0.739245                    (vegetables)\n",
      "36  0.394205                       (waffles)\n",
      "37  0.384548                        (yogurt)\n"
     ]
    }
   ],
   "source": [
    "results = apriori(df, min_support=0.3, use_colnames=True, max_len=1)\n",
    "print(results)"
   ],
   "metadata": {
    "collapsed": false,
    "pycharm": {
     "name": "#%%\n"
    }
   }
  },
  {
   "cell_type": "code",
   "execution_count": 653,
   "outputs": [
    {
     "name": "stdout",
     "output_type": "stream",
     "text": [
      "     support                                    itemsets  length\n",
      "38  0.310799                 (vegetables, aluminum foil)       2\n",
      "39  0.300263                        (vegetables, bagels)       2\n",
      "40  0.310799                       (vegetables, cereals)       2\n",
      "41  0.309043                       (vegetables, cheeses)       2\n",
      "42  0.308165                  (vegetables, dinner rolls)       2\n",
      "43  0.306409  (dishwashing liquid/detergent, vegetables)       2\n",
      "44  0.326602                          (vegetables, eggs)       2\n",
      "45  0.302897                     (vegetables, ice cream)       2\n",
      "46  0.309043             (laundry detergent, vegetables)       2\n",
      "47  0.311677                    (lunch meat, vegetables)       2\n",
      "48  0.331870                       (vegetables, poultry)       2\n",
      "49  0.305531                          (vegetables, soda)       2\n",
      "50  0.315189                       (waffles, vegetables)       2\n",
      "51  0.319579                        (vegetables, yogurt)       2\n",
      "\n",
      "Count of result itemstes =  14\n"
     ]
    }
   ],
   "source": [
    "results = apriori(df, min_support=0.3, use_colnames=True)\n",
    "results['length'] = results['itemsets'].apply(lambda x: len(x))\n",
    "results = results[results['length'] == 2]\n",
    "print(results)\n",
    "print('\\nCount of result itemstes = ', len(results))"
   ],
   "metadata": {
    "collapsed": false,
    "pycharm": {
     "name": "#%%\n"
    }
   }
  },
  {
   "cell_type": "code",
   "execution_count": 654,
   "outputs": [
    {
     "data": {
      "text/plain": "<Figure size 600x400 with 1 Axes>",
      "image/png": "[encoded data removed]"
     },
     "metadata": {},
     "output_type": "display_data"
    },
    {
     "name": "stdout",
     "output_type": "stream",
     "text": [
      "Уровень поддержки при котором перестают генерироваться наборы размера 4: 0.09000000000000000360822483004\n",
      "Уровень поддержки при котором перестают генерироваться наборы размера 3: 0.1700000000000000052735593669\n",
      "Уровень поддержки при котором перестают генерироваться наборы размера 2: 0.3400000000000000088123952576\n",
      "Уровень поддержки при котором перестают генерироваться наборы размера 1: 0.7400000000000000171390679416\n"
     ]
    }
   ],
   "source": [
    "from decimal import Decimal\n",
    "\n",
    "import matplotlib.pyplot as plt\n",
    "\n",
    "start = Decimal(0.05)\n",
    "support = []\n",
    "length = []\n",
    "max_len = []\n",
    "while start <= 1:\n",
    "    support.append(start)\n",
    "\n",
    "    results = apriori(df, min_support=start, use_colnames=True)\n",
    "    results['length'] = results['itemsets'].apply(lambda x: len(x))\n",
    "\n",
    "    length.append(len(results))\n",
    "    if len(results) > 0:\n",
    "        max_len.append(max(results['length']))\n",
    "\n",
    "    start += Decimal(0.01)\n",
    "\n",
    "fig, ax = plt.subplots(figsize=(6, 4))\n",
    "ax.plot(support, length)\n",
    "\n",
    "ax.scatter(support[max_len.index(3)], length[max_len.index(3)], color='orange', s=40, marker='o')\n",
    "ax.annotate('Конец набора размера 4', xy=(support[max_len.index(3)] + Decimal(0.01), length[max_len.index(3)] + 100),\n",
    "            xytext=(0.15, 3000),\n",
    "            fontsize=8, arrowprops=dict(facecolor='orange', width=1, headwidth=5))\n",
    "\n",
    "ax.scatter(support[max_len.index(2)], length[max_len.index(2)], color='red', s=40, marker='o')\n",
    "ax.annotate('Конец набора размера 3', xy=(support[max_len.index(2)] + Decimal(0.01), length[max_len.index(2)] + 150),\n",
    "            xytext=(0.25, 2000),\n",
    "            fontsize=8, arrowprops=dict(facecolor='red', width=1, headwidth=5))\n",
    "\n",
    "ax.scatter(support[max_len.index(1)], length[max_len.index(1)], color='green', s=40, marker='o')\n",
    "ax.annotate('Конец набора размера 2', xy=(support[max_len.index(1)] + Decimal(0.02), length[max_len.index(1)] + 200),\n",
    "            xytext=(0.45, 1000),\n",
    "            fontsize=8, arrowprops=dict(facecolor='green', width=1, headwidth=5))\n",
    "\n",
    "ax.scatter(support[len(max_len)], length[len(max_len)], color='yellow', s=40, marker='o')\n",
    "ax.annotate('Конец набора\\nразмера 1', xy=(support[len(max_len)], length[len(max_len)] + 250), xytext=(0.85, 1500),\n",
    "            fontsize=8, arrowprops=dict(facecolor='yellow', width=1, headwidth=5))\n",
    "\n",
    "plt.show()\n",
    "\n",
    "print(f'Уровень поддержки при котором перестают генерироваться наборы размера 4: {support[max_len.index(3)]}')\n",
    "print(f'Уровень поддержки при котором перестают генерироваться наборы размера 3: {support[max_len.index(2)]}')\n",
    "print(f'Уровень поддержки при котором перестают генерироваться наборы размера 2: {support[max_len.index(1)]}')\n",
    "print(f'Уровень поддержки при котором перестают генерироваться наборы размера 1: {support[len(max_len)]}')"
   ],
   "metadata": {
    "collapsed": false,
    "pycharm": {
     "name": "#%%\n"
    }
   }
  },
  {
   "cell_type": "code",
   "execution_count": 655,
   "outputs": [
    {
     "data": {
      "text/plain": "     support                        itemsets\n0   0.384548                 (aluminum foil)\n1   0.385426                        (bagels)\n2   0.395961                       (cereals)\n3   0.390694                       (cheeses)\n4   0.388938                  (dinner rolls)\n5   0.388060  (dishwashing liquid/detergent)\n6   0.389816                          (eggs)\n7   0.398595                     (ice cream)\n8   0.395083                    (lunch meat)\n9   0.380158                          (milk)\n10  0.421422                       (poultry)\n11  0.390694                          (soda)\n12  0.739245                    (vegetables)\n13  0.394205                       (waffles)\n14  0.384548                        (yogurt)",
      "text/html": "<div>\n<style scoped>\n    .dataframe tbody tr th:only-of-type {\n        vertical-align: middle;\n    }\n\n    .dataframe tbody tr th {\n        vertical-align: top;\n    }\n\n    .dataframe thead th {\n        text-align: right;\n    }\n</style>\n<table border=\"1\" class=\"dataframe\">\n  <thead>\n    <tr style=\"text-align: right;\">\n      <th></th>\n      <th>support</th>\n      <th>itemsets</th>\n    </tr>\n  </thead>\n  <tbody>\n    <tr>\n      <th>0</th>\n      <td>0.384548</td>\n      <td>(aluminum foil)</td>\n    </tr>\n    <tr>\n      <th>1</th>\n      <td>0.385426</td>\n      <td>(bagels)</td>\n    </tr>\n    <tr>\n      <th>2</th>\n      <td>0.395961</td>\n      <td>(cereals)</td>\n    </tr>\n    <tr>\n      <th>3</th>\n      <td>0.390694</td>\n      <td>(cheeses)</td>\n    </tr>\n    <tr>\n      <th>4</th>\n      <td>0.388938</td>\n      <td>(dinner rolls)</td>\n    </tr>\n    <tr>\n      <th>5</th>\n      <td>0.388060</td>\n      <td>(dishwashing liquid/detergent)</td>\n    </tr>\n    <tr>\n      <th>6</th>\n      <td>0.389816</td>\n      <td>(eggs)</td>\n    </tr>\n    <tr>\n      <th>7</th>\n      <td>0.398595</td>\n      <td>(ice cream)</td>\n    </tr>\n    <tr>\n      <th>8</th>\n      <td>0.395083</td>\n      <td>(lunch meat)</td>\n    </tr>\n    <tr>\n      <th>9</th>\n      <td>0.380158</td>\n      <td>(milk)</td>\n    </tr>\n    <tr>\n      <th>10</th>\n      <td>0.421422</td>\n      <td>(poultry)</td>\n    </tr>\n    <tr>\n      <th>11</th>\n      <td>0.390694</td>\n      <td>(soda)</td>\n    </tr>\n    <tr>\n      <th>12</th>\n      <td>0.739245</td>\n      <td>(vegetables)</td>\n    </tr>\n    <tr>\n      <th>13</th>\n      <td>0.394205</td>\n      <td>(waffles)</td>\n    </tr>\n    <tr>\n      <th>14</th>\n      <td>0.384548</td>\n      <td>(yogurt)</td>\n    </tr>\n  </tbody>\n</table>\n</div>"
     },
     "execution_count": 655,
     "metadata": {},
     "output_type": "execute_result"
    }
   ],
   "source": [
    "results = apriori(df, min_support=0.38, use_colnames=True, max_len=1)\n",
    "new_items = [list(elem)[0] for elem in results['itemsets']]\n",
    "new_dataset = [[elem for elem in all_data[all_data[1] == id][2] if elem in\n",
    "                new_items] for id in unique_id]\n",
    "\n",
    "results"
   ],
   "metadata": {
    "collapsed": false,
    "pycharm": {
     "name": "#%%\n"
    }
   }
  },
  {
   "cell_type": "code",
   "execution_count": 656,
   "outputs": [],
   "source": [
    "te1 = TransactionEncoder()\n",
    "te_ary1 = te1.fit(new_dataset).transform(new_dataset)\n",
    "df1 = pd.DataFrame(te_ary1, columns=te1.columns_)"
   ],
   "metadata": {
    "collapsed": false,
    "pycharm": {
     "name": "#%%\n"
    }
   }
  },
  {
   "cell_type": "code",
   "execution_count": 657,
   "outputs": [
    {
     "data": {
      "text/plain": "                       antecedents                     consequents  \\\n0                     (vegetables)                 (aluminum foil)   \n1                  (aluminum foil)                    (vegetables)   \n2                     (vegetables)                        (bagels)   \n3                         (bagels)                    (vegetables)   \n4                     (vegetables)                       (cereals)   \n5                        (cereals)                    (vegetables)   \n6                        (cheeses)                    (vegetables)   \n7                     (vegetables)                       (cheeses)   \n8                     (vegetables)                  (dinner rolls)   \n9                   (dinner rolls)                    (vegetables)   \n10  (dishwashing liquid/detergent)                    (vegetables)   \n11                    (vegetables)  (dishwashing liquid/detergent)   \n12                    (vegetables)                          (eggs)   \n13                          (eggs)                    (vegetables)   \n14                    (vegetables)                     (ice cream)   \n15                     (ice cream)                    (vegetables)   \n16                    (lunch meat)                    (vegetables)   \n17                    (vegetables)                    (lunch meat)   \n18                    (vegetables)                       (poultry)   \n19                       (poultry)                    (vegetables)   \n20                    (vegetables)                          (soda)   \n21                          (soda)                    (vegetables)   \n22                       (waffles)                    (vegetables)   \n23                    (vegetables)                       (waffles)   \n24                    (vegetables)                        (yogurt)   \n25                        (yogurt)                    (vegetables)   \n\n    antecedent support  consequent support   support  confidence      lift  \\\n0             0.739245            0.384548  0.310799    0.420428  1.093304   \n1             0.384548            0.739245  0.310799    0.808219  1.093304   \n2             0.739245            0.385426  0.300263    0.406176  1.053836   \n3             0.385426            0.739245  0.300263    0.779043  1.053836   \n4             0.739245            0.395961  0.310799    0.420428  1.061789   \n5             0.395961            0.739245  0.310799    0.784922  1.061789   \n6             0.390694            0.739245  0.309043    0.791011  1.070026   \n7             0.739245            0.390694  0.309043    0.418052  1.070026   \n8             0.739245            0.388938  0.308165    0.416865  1.071803   \n9             0.388938            0.739245  0.308165    0.792325  1.071803   \n10            0.388060            0.739245  0.306409    0.789593  1.068107   \n11            0.739245            0.388060  0.306409    0.414489  1.068107   \n12            0.739245            0.389816  0.326602    0.441805  1.133370   \n13            0.389816            0.739245  0.326602    0.837838  1.133370   \n14            0.739245            0.398595  0.302897    0.409739  1.027957   \n15            0.398595            0.739245  0.302897    0.759912  1.027957   \n16            0.395083            0.739245  0.311677    0.788889  1.067155   \n17            0.739245            0.395083  0.311677    0.421615  1.067155   \n18            0.739245            0.421422  0.331870    0.448931  1.065276   \n19            0.421422            0.739245  0.331870    0.787500  1.065276   \n20            0.739245            0.390694  0.305531    0.413302  1.057867   \n21            0.390694            0.739245  0.305531    0.782022  1.057867   \n22            0.394205            0.739245  0.315189    0.799555  1.081583   \n23            0.739245            0.394205  0.315189    0.426366  1.081583   \n24            0.739245            0.384548  0.319579    0.432304  1.124188   \n25            0.384548            0.739245  0.319579    0.831050  1.124188   \n\n    leverage  conviction  \n0   0.026524    1.061907  \n1   0.026524    1.359651  \n2   0.015339    1.034943  \n3   0.015339    1.180118  \n4   0.018087    1.042214  \n5   0.018087    1.212377  \n6   0.020225    1.247699  \n7   0.020225    1.047012  \n8   0.020645    1.047891  \n9   0.020645    1.255592  \n10  0.019538    1.239287  \n11  0.019538    1.045139  \n12  0.038433    1.093139  \n13  0.038433    1.607989  \n14  0.008238    1.018879  \n15  0.008238    1.086081  \n16  0.019613    1.235155  \n17  0.019613    1.045872  \n18  0.020336    1.049919  \n19  0.020336    1.227083  \n20  0.016713    1.038534  \n21  0.016713    1.196247  \n22  0.023774    1.300878  \n23  0.023774    1.056064  \n24  0.035304    1.084123  \n25  0.035304    1.543388  ",
      "text/html": "<div>\n<style scoped>\n    .dataframe tbody tr th:only-of-type {\n        vertical-align: middle;\n    }\n\n    .dataframe tbody tr th {\n        vertical-align: top;\n    }\n\n    .dataframe thead th {\n        text-align: right;\n    }\n</style>\n<table border=\"1\" class=\"dataframe\">\n  <thead>\n    <tr style=\"text-align: right;\">\n      <th></th>\n      <th>antecedents</th>\n      <th>consequents</th>\n      <th>antecedent support</th>\n      <th>consequent support</th>\n      <th>support</th>\n      <th>confidence</th>\n      <th>lift</th>\n      <th>leverage</th>\n      <th>conviction</th>\n    </tr>\n  </thead>\n  <tbody>\n    <tr>\n      <th>0</th>\n      <td>(vegetables)</td>\n      <td>(aluminum foil)</td>\n      <td>0.739245</td>\n      <td>0.384548</td>\n      <td>0.310799</td>\n      <td>0.420428</td>\n      <td>1.093304</td>\n      <td>0.026524</td>\n      <td>1.061907</td>\n    </tr>\n    <tr>\n      <th>1</th>\n      <td>(aluminum foil)</td>\n      <td>(vegetables)</td>\n      <td>0.384548</td>\n      <td>0.739245</td>\n      <td>0.310799</td>\n      <td>0.808219</td>\n      <td>1.093304</td>\n      <td>0.026524</td>\n      <td>1.359651</td>\n    </tr>\n    <tr>\n      <th>2</th>\n      <td>(vegetables)</td>\n      <td>(bagels)</td>\n      <td>0.739245</td>\n      <td>0.385426</td>\n      <td>0.300263</td>\n      <td>0.406176</td>\n      <td>1.053836</td>\n      <td>0.015339</td>\n      <td>1.034943</td>\n    </tr>\n    <tr>\n      <th>3</th>\n      <td>(bagels)</td>\n      <td>(vegetables)</td>\n      <td>0.385426</td>\n      <td>0.739245</td>\n      <td>0.300263</td>\n      <td>0.779043</td>\n      <td>1.053836</td>\n      <td>0.015339</td>\n      <td>1.180118</td>\n    </tr>\n    <tr>\n      <th>4</th>\n      <td>(vegetables)</td>\n      <td>(cereals)</td>\n      <td>0.739245</td>\n      <td>0.395961</td>\n      <td>0.310799</td>\n      <td>0.420428</td>\n      <td>1.061789</td>\n      <td>0.018087</td>\n      <td>1.042214</td>\n    </tr>\n    <tr>\n      <th>5</th>\n      <td>(cereals)</td>\n      <td>(vegetables)</td>\n      <td>0.395961</td>\n      <td>0.739245</td>\n      <td>0.310799</td>\n      <td>0.784922</td>\n      <td>1.061789</td>\n      <td>0.018087</td>\n      <td>1.212377</td>\n    </tr>\n    <tr>\n      <th>6</th>\n      <td>(cheeses)</td>\n      <td>(vegetables)</td>\n      <td>0.390694</td>\n      <td>0.739245</td>\n      <td>0.309043</td>\n      <td>0.791011</td>\n      <td>1.070026</td>\n      <td>0.020225</td>\n      <td>1.247699</td>\n    </tr>\n    <tr>\n      <th>7</th>\n      <td>(vegetables)</td>\n      <td>(cheeses)</td>\n      <td>0.739245</td>\n      <td>0.390694</td>\n      <td>0.309043</td>\n      <td>0.418052</td>\n      <td>1.070026</td>\n      <td>0.020225</td>\n      <td>1.047012</td>\n    </tr>\n    <tr>\n      <th>8</th>\n      <td>(vegetables)</td>\n      <td>(dinner rolls)</td>\n      <td>0.739245</td>\n      <td>0.388938</td>\n      <td>0.308165</td>\n      <td>0.416865</td>\n      <td>1.071803</td>\n      <td>0.020645</td>\n      <td>1.047891</td>\n    </tr>\n    <tr>\n      <th>9</th>\n      <td>(dinner rolls)</td>\n      <td>(vegetables)</td>\n      <td>0.388938</td>\n      <td>0.739245</td>\n      <td>0.308165</td>\n      <td>0.792325</td>\n      <td>1.071803</td>\n      <td>0.020645</td>\n      <td>1.255592</td>\n    </tr>\n    <tr>\n      <th>10</th>\n      <td>(dishwashing liquid/detergent)</td>\n      <td>(vegetables)</td>\n      <td>0.388060</td>\n      <td>0.739245</td>\n      <td>0.306409</td>\n      <td>0.789593</td>\n      <td>1.068107</td>\n      <td>0.019538</td>\n      <td>1.239287</td>\n    </tr>\n    <tr>\n      <th>11</th>\n      <td>(vegetables)</td>\n      <td>(dishwashing liquid/detergent)</td>\n      <td>0.739245</td>\n      <td>0.388060</td>\n      <td>0.306409</td>\n      <td>0.414489</td>\n      <td>1.068107</td>\n      <td>0.019538</td>\n      <td>1.045139</td>\n    </tr>\n    <tr>\n      <th>12</th>\n      <td>(vegetables)</td>\n      <td>(eggs)</td>\n      <td>0.739245</td>\n      <td>0.389816</td>\n      <td>0.326602</td>\n      <td>0.441805</td>\n      <td>1.133370</td>\n      <td>0.038433</td>\n      <td>1.093139</td>\n    </tr>\n    <tr>\n      <th>13</th>\n      <td>(eggs)</td>\n      <td>(vegetables)</td>\n      <td>0.389816</td>\n      <td>0.739245</td>\n      <td>0.326602</td>\n      <td>0.837838</td>\n      <td>1.133370</td>\n      <td>0.038433</td>\n      <td>1.607989</td>\n    </tr>\n    <tr>\n      <th>14</th>\n      <td>(vegetables)</td>\n      <td>(ice cream)</td>\n      <td>0.739245</td>\n      <td>0.398595</td>\n      <td>0.302897</td>\n      <td>0.409739</td>\n      <td>1.027957</td>\n      <td>0.008238</td>\n      <td>1.018879</td>\n    </tr>\n    <tr>\n      <th>15</th>\n      <td>(ice cream)</td>\n      <td>(vegetables)</td>\n      <td>0.398595</td>\n      <td>0.739245</td>\n      <td>0.302897</td>\n      <td>0.759912</td>\n      <td>1.027957</td>\n      <td>0.008238</td>\n      <td>1.086081</td>\n    </tr>\n    <tr>\n      <th>16</th>\n      <td>(lunch meat)</td>\n      <td>(vegetables)</td>\n      <td>0.395083</td>\n      <td>0.739245</td>\n      <td>0.311677</td>\n      <td>0.788889</td>\n      <td>1.067155</td>\n      <td>0.019613</td>\n      <td>1.235155</td>\n    </tr>\n    <tr>\n      <th>17</th>\n      <td>(vegetables)</td>\n      <td>(lunch meat)</td>\n      <td>0.739245</td>\n      <td>0.395083</td>\n      <td>0.311677</td>\n      <td>0.421615</td>\n      <td>1.067155</td>\n      <td>0.019613</td>\n      <td>1.045872</td>\n    </tr>\n    <tr>\n      <th>18</th>\n      <td>(vegetables)</td>\n      <td>(poultry)</td>\n      <td>0.739245</td>\n      <td>0.421422</td>\n      <td>0.331870</td>\n      <td>0.448931</td>\n      <td>1.065276</td>\n      <td>0.020336</td>\n      <td>1.049919</td>\n    </tr>\n    <tr>\n      <th>19</th>\n      <td>(poultry)</td>\n      <td>(vegetables)</td>\n      <td>0.421422</td>\n      <td>0.739245</td>\n      <td>0.331870</td>\n      <td>0.787500</td>\n      <td>1.065276</td>\n      <td>0.020336</td>\n      <td>1.227083</td>\n    </tr>\n    <tr>\n      <th>20</th>\n      <td>(vegetables)</td>\n      <td>(soda)</td>\n      <td>0.739245</td>\n      <td>0.390694</td>\n      <td>0.305531</td>\n      <td>0.413302</td>\n      <td>1.057867</td>\n      <td>0.016713</td>\n      <td>1.038534</td>\n    </tr>\n    <tr>\n      <th>21</th>\n      <td>(soda)</td>\n      <td>(vegetables)</td>\n      <td>0.390694</td>\n      <td>0.739245</td>\n      <td>0.305531</td>\n      <td>0.782022</td>\n      <td>1.057867</td>\n      <td>0.016713</td>\n      <td>1.196247</td>\n    </tr>\n    <tr>\n      <th>22</th>\n      <td>(waffles)</td>\n      <td>(vegetables)</td>\n      <td>0.394205</td>\n      <td>0.739245</td>\n      <td>0.315189</td>\n      <td>0.799555</td>\n      <td>1.081583</td>\n      <td>0.023774</td>\n      <td>1.300878</td>\n    </tr>\n    <tr>\n      <th>23</th>\n      <td>(vegetables)</td>\n      <td>(waffles)</td>\n      <td>0.739245</td>\n      <td>0.394205</td>\n      <td>0.315189</td>\n      <td>0.426366</td>\n      <td>1.081583</td>\n      <td>0.023774</td>\n      <td>1.056064</td>\n    </tr>\n    <tr>\n      <th>24</th>\n      <td>(vegetables)</td>\n      <td>(yogurt)</td>\n      <td>0.739245</td>\n      <td>0.384548</td>\n      <td>0.319579</td>\n      <td>0.432304</td>\n      <td>1.124188</td>\n      <td>0.035304</td>\n      <td>1.084123</td>\n    </tr>\n    <tr>\n      <th>25</th>\n      <td>(yogurt)</td>\n      <td>(vegetables)</td>\n      <td>0.384548</td>\n      <td>0.739245</td>\n      <td>0.319579</td>\n      <td>0.831050</td>\n      <td>1.124188</td>\n      <td>0.035304</td>\n      <td>1.543388</td>\n    </tr>\n  </tbody>\n</table>\n</div>"
     },
     "execution_count": 657,
     "metadata": {},
     "output_type": "execute_result"
    }
   ],
   "source": [
    "from mlxtend.frequent_patterns import association_rules\n",
    "\n",
    "new_results = apriori(df1, min_support=0.3, use_colnames=True)\n",
    "\n",
    "association_rules(new_results, min_threshold=0.3)"
   ],
   "metadata": {
    "collapsed": false,
    "pycharm": {
     "name": "#%%\n"
    }
   }
  },
  {
   "cell_type": "code",
   "execution_count": 658,
   "outputs": [
    {
     "data": {
      "text/plain": "                 antecedents      consequents  antecedent support  \\\n209     (vegetables, yogurt)  (aluminum foil)            0.319579   \n210  (aluminum foil, yogurt)     (vegetables)            0.177349   \n262     (vegetables, yogurt)           (eggs)            0.319579   \n263           (eggs, yogurt)     (vegetables)            0.174715   \n275    (lunch meat, waffles)     (vegetables)            0.184372   \n276    (waffles, vegetables)     (lunch meat)            0.315189   \n281     (vegetables, yogurt)        (poultry)            0.319579   \n282        (poultry, yogurt)     (vegetables)            0.180860   \n\n     consequent support   support  confidence      lift  leverage  conviction  \\\n209            0.384548  0.152766    0.478022  1.243075  0.029872    1.179077   \n210            0.739245  0.152766    0.861386  1.165224  0.021662    1.881161   \n262            0.389816  0.157155    0.491758  1.261515  0.032579    1.200579   \n263            0.739245  0.157155    0.899497  1.216779  0.027998    2.594513   \n275            0.739245  0.157155    0.852381  1.153043  0.020859    1.766405   \n276            0.395083  0.157155    0.498607  1.262030  0.032630    1.206473   \n281            0.421422  0.152766    0.478022  1.134306  0.018088    1.108433   \n282            0.739245  0.152766    0.844660  1.142599  0.019065    1.678611   \n\n     antecedent_len  \n209               2  \n210               2  \n262               2  \n263               2  \n275               2  \n276               2  \n281               2  \n282               2  ",
      "text/html": "<div>\n<style scoped>\n    .dataframe tbody tr th:only-of-type {\n        vertical-align: middle;\n    }\n\n    .dataframe tbody tr th {\n        vertical-align: top;\n    }\n\n    .dataframe thead th {\n        text-align: right;\n    }\n</style>\n<table border=\"1\" class=\"dataframe\">\n  <thead>\n    <tr style=\"text-align: right;\">\n      <th></th>\n      <th>antecedents</th>\n      <th>consequents</th>\n      <th>antecedent support</th>\n      <th>consequent support</th>\n      <th>support</th>\n      <th>confidence</th>\n      <th>lift</th>\n      <th>leverage</th>\n      <th>conviction</th>\n      <th>antecedent_len</th>\n    </tr>\n  </thead>\n  <tbody>\n    <tr>\n      <th>209</th>\n      <td>(vegetables, yogurt)</td>\n      <td>(aluminum foil)</td>\n      <td>0.319579</td>\n      <td>0.384548</td>\n      <td>0.152766</td>\n      <td>0.478022</td>\n      <td>1.243075</td>\n      <td>0.029872</td>\n      <td>1.179077</td>\n      <td>2</td>\n    </tr>\n    <tr>\n      <th>210</th>\n      <td>(aluminum foil, yogurt)</td>\n      <td>(vegetables)</td>\n      <td>0.177349</td>\n      <td>0.739245</td>\n      <td>0.152766</td>\n      <td>0.861386</td>\n      <td>1.165224</td>\n      <td>0.021662</td>\n      <td>1.881161</td>\n      <td>2</td>\n    </tr>\n    <tr>\n      <th>262</th>\n      <td>(vegetables, yogurt)</td>\n      <td>(eggs)</td>\n      <td>0.319579</td>\n      <td>0.389816</td>\n      <td>0.157155</td>\n      <td>0.491758</td>\n      <td>1.261515</td>\n      <td>0.032579</td>\n      <td>1.200579</td>\n      <td>2</td>\n    </tr>\n    <tr>\n      <th>263</th>\n      <td>(eggs, yogurt)</td>\n      <td>(vegetables)</td>\n      <td>0.174715</td>\n      <td>0.739245</td>\n      <td>0.157155</td>\n      <td>0.899497</td>\n      <td>1.216779</td>\n      <td>0.027998</td>\n      <td>2.594513</td>\n      <td>2</td>\n    </tr>\n    <tr>\n      <th>275</th>\n      <td>(lunch meat, waffles)</td>\n      <td>(vegetables)</td>\n      <td>0.184372</td>\n      <td>0.739245</td>\n      <td>0.157155</td>\n      <td>0.852381</td>\n      <td>1.153043</td>\n      <td>0.020859</td>\n      <td>1.766405</td>\n      <td>2</td>\n    </tr>\n    <tr>\n      <th>276</th>\n      <td>(waffles, vegetables)</td>\n      <td>(lunch meat)</td>\n      <td>0.315189</td>\n      <td>0.395083</td>\n      <td>0.157155</td>\n      <td>0.498607</td>\n      <td>1.262030</td>\n      <td>0.032630</td>\n      <td>1.206473</td>\n      <td>2</td>\n    </tr>\n    <tr>\n      <th>281</th>\n      <td>(vegetables, yogurt)</td>\n      <td>(poultry)</td>\n      <td>0.319579</td>\n      <td>0.421422</td>\n      <td>0.152766</td>\n      <td>0.478022</td>\n      <td>1.134306</td>\n      <td>0.018088</td>\n      <td>1.108433</td>\n      <td>2</td>\n    </tr>\n    <tr>\n      <th>282</th>\n      <td>(poultry, yogurt)</td>\n      <td>(vegetables)</td>\n      <td>0.180860</td>\n      <td>0.739245</td>\n      <td>0.152766</td>\n      <td>0.844660</td>\n      <td>1.142599</td>\n      <td>0.019065</td>\n      <td>1.678611</td>\n      <td>2</td>\n    </tr>\n  </tbody>\n</table>\n</div>"
     },
     "execution_count": 658,
     "metadata": {},
     "output_type": "execute_result"
    }
   ],
   "source": [
    "new_results_2 = apriori(df1, min_support=0.15, use_colnames=True)\n",
    "rules_2 = association_rules(new_results_2, min_threshold=0.15)\n",
    "rules_2[\"antecedent_len\"] = rules_2[\"antecedents\"].apply(lambda x: len(x))\n",
    "\n",
    "rules_2[(rules_2['antecedent_len'] > 1) & (\n",
    "    rules_2[\"antecedents\"].apply(lambda x: 'yogurt' in str(x) or 'waffles' in str(x)))]\n"
   ],
   "metadata": {
    "collapsed": false,
    "pycharm": {
     "name": "#%%\n"
    }
   }
  },
  {
   "cell_type": "code",
   "execution_count": 668,
   "outputs": [],
   "source": [
    "new_dataset_3 = [[elem for elem in all_data[all_data[1] == id][2] if elem not in\n",
    "                  new_items] for id in unique_id]\n"
   ],
   "metadata": {
    "collapsed": false,
    "pycharm": {
     "name": "#%%\n"
    }
   }
  },
  {
   "cell_type": "code",
   "execution_count": 671,
   "outputs": [],
   "source": [
    "te3 = TransactionEncoder()\n",
    "te_ary3 = te3.fit(new_dataset_3).transform(new_dataset_3)\n",
    "df3 = pd.DataFrame(te_ary3, columns=te3.columns_)\n",
    "\n",
    "results_3 = apriori(df3, min_support=0.05, use_colnames=True, max_len=10)"
   ],
   "metadata": {
    "collapsed": false,
    "pycharm": {
     "name": "#%%\n"
    }
   }
  },
  {
   "cell_type": "code",
   "execution_count": 702,
   "outputs": [
    {
     "data": {
      "text/plain": "                            antecedents     consequents  antecedent support  \\\n1706   (sandwich loaves, sandwich bags)  (all- purpose)            0.137840   \n1712           (shampoo, sandwich bags)  (all- purpose)            0.146620   \n1718              (soap, sandwich bags)  (all- purpose)            0.158911   \n1724   (spaghetti sauce, sandwich bags)  (all- purpose)            0.147498   \n1730             (sugar, sandwich bags)  (all- purpose)            0.131694   \n...                                 ...             ...                 ...   \n10922           (spaghetti sauce, soap)     (tortillas)            0.160667   \n10929                     (soap, sugar)  (toilet paper)            0.154522   \n10936                     (soap, sugar)     (tortillas)            0.154522   \n10947          (spaghetti sauce, sugar)  (toilet paper)            0.144864   \n10953          (spaghetti sauce, sugar)     (tortillas)            0.144864   \n\n       consequent support   support  confidence      lift  leverage  \\\n1706             0.374890  0.051800    0.375796  1.002417  0.000125   \n1712             0.374890  0.057068    0.389222  1.038228  0.002101   \n1718             0.374890  0.069359    0.436464  1.164245  0.009785   \n1724             0.374890  0.056190    0.380952  1.016170  0.000894   \n1730             0.374890  0.051800    0.393333  1.049196  0.002429   \n...                   ...       ...         ...       ...       ...   \n10922            0.369622  0.064091    0.398907  1.079228  0.004705   \n10929            0.378402  0.069359    0.448864  1.186208  0.010888   \n10936            0.369622  0.064969    0.420455  1.137524  0.007855   \n10947            0.378402  0.065847    0.454545  1.201223  0.011030   \n10953            0.369622  0.058824    0.406061  1.098582  0.005279   \n\n       conviction  antecedent_len  \n1706     1.001451               2  \n1712     1.023464               2  \n1718     1.109263               2  \n1724     1.009793               2  \n1730     1.030401               2  \n...           ...             ...  \n10922    1.048719               2  \n10929    1.127848               2  \n10936    1.087710               2  \n10947    1.139596               2  \n10953    1.061350               2  \n\n[309 rows x 10 columns]",
      "text/html": "<div>\n<style scoped>\n    .dataframe tbody tr th:only-of-type {\n        vertical-align: middle;\n    }\n\n    .dataframe tbody tr th {\n        vertical-align: top;\n    }\n\n    .dataframe thead th {\n        text-align: right;\n    }\n</style>\n<table border=\"1\" class=\"dataframe\">\n  <thead>\n    <tr style=\"text-align: right;\">\n      <th></th>\n      <th>antecedents</th>\n      <th>consequents</th>\n      <th>antecedent support</th>\n      <th>consequent support</th>\n      <th>support</th>\n      <th>confidence</th>\n      <th>lift</th>\n      <th>leverage</th>\n      <th>conviction</th>\n      <th>antecedent_len</th>\n    </tr>\n  </thead>\n  <tbody>\n    <tr>\n      <th>1706</th>\n      <td>(sandwich loaves, sandwich bags)</td>\n      <td>(all- purpose)</td>\n      <td>0.137840</td>\n      <td>0.374890</td>\n      <td>0.051800</td>\n      <td>0.375796</td>\n      <td>1.002417</td>\n      <td>0.000125</td>\n      <td>1.001451</td>\n      <td>2</td>\n    </tr>\n    <tr>\n      <th>1712</th>\n      <td>(shampoo, sandwich bags)</td>\n      <td>(all- purpose)</td>\n      <td>0.146620</td>\n      <td>0.374890</td>\n      <td>0.057068</td>\n      <td>0.389222</td>\n      <td>1.038228</td>\n      <td>0.002101</td>\n      <td>1.023464</td>\n      <td>2</td>\n    </tr>\n    <tr>\n      <th>1718</th>\n      <td>(soap, sandwich bags)</td>\n      <td>(all- purpose)</td>\n      <td>0.158911</td>\n      <td>0.374890</td>\n      <td>0.069359</td>\n      <td>0.436464</td>\n      <td>1.164245</td>\n      <td>0.009785</td>\n      <td>1.109263</td>\n      <td>2</td>\n    </tr>\n    <tr>\n      <th>1724</th>\n      <td>(spaghetti sauce, sandwich bags)</td>\n      <td>(all- purpose)</td>\n      <td>0.147498</td>\n      <td>0.374890</td>\n      <td>0.056190</td>\n      <td>0.380952</td>\n      <td>1.016170</td>\n      <td>0.000894</td>\n      <td>1.009793</td>\n      <td>2</td>\n    </tr>\n    <tr>\n      <th>1730</th>\n      <td>(sugar, sandwich bags)</td>\n      <td>(all- purpose)</td>\n      <td>0.131694</td>\n      <td>0.374890</td>\n      <td>0.051800</td>\n      <td>0.393333</td>\n      <td>1.049196</td>\n      <td>0.002429</td>\n      <td>1.030401</td>\n      <td>2</td>\n    </tr>\n    <tr>\n      <th>...</th>\n      <td>...</td>\n      <td>...</td>\n      <td>...</td>\n      <td>...</td>\n      <td>...</td>\n      <td>...</td>\n      <td>...</td>\n      <td>...</td>\n      <td>...</td>\n      <td>...</td>\n    </tr>\n    <tr>\n      <th>10922</th>\n      <td>(spaghetti sauce, soap)</td>\n      <td>(tortillas)</td>\n      <td>0.160667</td>\n      <td>0.369622</td>\n      <td>0.064091</td>\n      <td>0.398907</td>\n      <td>1.079228</td>\n      <td>0.004705</td>\n      <td>1.048719</td>\n      <td>2</td>\n    </tr>\n    <tr>\n      <th>10929</th>\n      <td>(soap, sugar)</td>\n      <td>(toilet paper)</td>\n      <td>0.154522</td>\n      <td>0.378402</td>\n      <td>0.069359</td>\n      <td>0.448864</td>\n      <td>1.186208</td>\n      <td>0.010888</td>\n      <td>1.127848</td>\n      <td>2</td>\n    </tr>\n    <tr>\n      <th>10936</th>\n      <td>(soap, sugar)</td>\n      <td>(tortillas)</td>\n      <td>0.154522</td>\n      <td>0.369622</td>\n      <td>0.064969</td>\n      <td>0.420455</td>\n      <td>1.137524</td>\n      <td>0.007855</td>\n      <td>1.087710</td>\n      <td>2</td>\n    </tr>\n    <tr>\n      <th>10947</th>\n      <td>(spaghetti sauce, sugar)</td>\n      <td>(toilet paper)</td>\n      <td>0.144864</td>\n      <td>0.378402</td>\n      <td>0.065847</td>\n      <td>0.454545</td>\n      <td>1.201223</td>\n      <td>0.011030</td>\n      <td>1.139596</td>\n      <td>2</td>\n    </tr>\n    <tr>\n      <th>10953</th>\n      <td>(spaghetti sauce, sugar)</td>\n      <td>(tortillas)</td>\n      <td>0.144864</td>\n      <td>0.369622</td>\n      <td>0.058824</td>\n      <td>0.406061</td>\n      <td>1.098582</td>\n      <td>0.005279</td>\n      <td>1.061350</td>\n      <td>2</td>\n    </tr>\n  </tbody>\n</table>\n<p>309 rows × 10 columns</p>\n</div>"
     },
     "execution_count": 702,
     "metadata": {},
     "output_type": "execute_result"
    }
   ],
   "source": [
    "def check_first_s(string_list: list) -> bool:\n",
    "    return len(list(filter(lambda y: y[0] == 's', string_list))) > 1\n",
    "\n",
    "\n",
    "rules_3 = association_rules(results_3, min_threshold=0.05)\n",
    "rules_3[\"antecedent_len\"] = rules_3[\"antecedents\"].apply(lambda x: len(x))\n",
    "rules_3[(rules_3['antecedent_len'] > 1) & (rules_3[\"antecedents\"].apply(lambda x: check_first_s(list(x))))]\n"
   ],
   "metadata": {
    "collapsed": false,
    "pycharm": {
     "name": "#%%\n"
    }
   }
  },
  {
   "cell_type": "code",
   "execution_count": 703,
   "outputs": [
    {
     "data": {
      "text/plain": "        antecedents     consequents  antecedent support  consequent support  \\\n0            (beef)  (all- purpose)            0.374890            0.374890   \n1    (all- purpose)          (beef)            0.374890            0.374890   \n2          (butter)  (all- purpose)            0.367867            0.374890   \n3    (all- purpose)        (butter)            0.374890            0.367867   \n4      (coffee/tea)  (all- purpose)            0.379280            0.374890   \n..              ...             ...                 ...                 ...   \n501         (sugar)  (toilet paper)            0.360843            0.378402   \n502     (tortillas)         (sugar)            0.369622            0.360843   \n503         (sugar)     (tortillas)            0.360843            0.369622   \n504     (tortillas)  (toilet paper)            0.369622            0.378402   \n505  (toilet paper)     (tortillas)            0.378402            0.369622   \n\n      support  confidence      lift  leverage  conviction  antecedent_len  \n0    0.144864    0.386417  1.030747  0.004321    1.018786               1  \n1    0.144864    0.386417  1.030747  0.004321    1.018786               1  \n2    0.147498    0.400955  1.069525  0.009588    1.043510               1  \n3    0.147498    0.393443  1.069525  0.009588    1.042166               1  \n4    0.146620    0.386574  1.031166  0.004431    1.019047               1  \n..        ...         ...       ...       ...         ...             ...  \n501  0.151888    0.420925  1.112374  0.015344    1.073432               1  \n502  0.147498    0.399050  1.105883  0.014122    1.063578               1  \n503  0.147498    0.408759  1.105883  0.014122    1.066194               1  \n504  0.156277    0.422803  1.117337  0.016412    1.076925               1  \n505  0.156277    0.412993  1.117337  0.016412    1.073884               1  \n\n[506 rows x 10 columns]",
      "text/html": "<div>\n<style scoped>\n    .dataframe tbody tr th:only-of-type {\n        vertical-align: middle;\n    }\n\n    .dataframe tbody tr th {\n        vertical-align: top;\n    }\n\n    .dataframe thead th {\n        text-align: right;\n    }\n</style>\n<table border=\"1\" class=\"dataframe\">\n  <thead>\n    <tr style=\"text-align: right;\">\n      <th></th>\n      <th>antecedents</th>\n      <th>consequents</th>\n      <th>antecedent support</th>\n      <th>consequent support</th>\n      <th>support</th>\n      <th>confidence</th>\n      <th>lift</th>\n      <th>leverage</th>\n      <th>conviction</th>\n      <th>antecedent_len</th>\n    </tr>\n  </thead>\n  <tbody>\n    <tr>\n      <th>0</th>\n      <td>(beef)</td>\n      <td>(all- purpose)</td>\n      <td>0.374890</td>\n      <td>0.374890</td>\n      <td>0.144864</td>\n      <td>0.386417</td>\n      <td>1.030747</td>\n      <td>0.004321</td>\n      <td>1.018786</td>\n      <td>1</td>\n    </tr>\n    <tr>\n      <th>1</th>\n      <td>(all- purpose)</td>\n      <td>(beef)</td>\n      <td>0.374890</td>\n      <td>0.374890</td>\n      <td>0.144864</td>\n      <td>0.386417</td>\n      <td>1.030747</td>\n      <td>0.004321</td>\n      <td>1.018786</td>\n      <td>1</td>\n    </tr>\n    <tr>\n      <th>2</th>\n      <td>(butter)</td>\n      <td>(all- purpose)</td>\n      <td>0.367867</td>\n      <td>0.374890</td>\n      <td>0.147498</td>\n      <td>0.400955</td>\n      <td>1.069525</td>\n      <td>0.009588</td>\n      <td>1.043510</td>\n      <td>1</td>\n    </tr>\n    <tr>\n      <th>3</th>\n      <td>(all- purpose)</td>\n      <td>(butter)</td>\n      <td>0.374890</td>\n      <td>0.367867</td>\n      <td>0.147498</td>\n      <td>0.393443</td>\n      <td>1.069525</td>\n      <td>0.009588</td>\n      <td>1.042166</td>\n      <td>1</td>\n    </tr>\n    <tr>\n      <th>4</th>\n      <td>(coffee/tea)</td>\n      <td>(all- purpose)</td>\n      <td>0.379280</td>\n      <td>0.374890</td>\n      <td>0.146620</td>\n      <td>0.386574</td>\n      <td>1.031166</td>\n      <td>0.004431</td>\n      <td>1.019047</td>\n      <td>1</td>\n    </tr>\n    <tr>\n      <th>...</th>\n      <td>...</td>\n      <td>...</td>\n      <td>...</td>\n      <td>...</td>\n      <td>...</td>\n      <td>...</td>\n      <td>...</td>\n      <td>...</td>\n      <td>...</td>\n      <td>...</td>\n    </tr>\n    <tr>\n      <th>501</th>\n      <td>(sugar)</td>\n      <td>(toilet paper)</td>\n      <td>0.360843</td>\n      <td>0.378402</td>\n      <td>0.151888</td>\n      <td>0.420925</td>\n      <td>1.112374</td>\n      <td>0.015344</td>\n      <td>1.073432</td>\n      <td>1</td>\n    </tr>\n    <tr>\n      <th>502</th>\n      <td>(tortillas)</td>\n      <td>(sugar)</td>\n      <td>0.369622</td>\n      <td>0.360843</td>\n      <td>0.147498</td>\n      <td>0.399050</td>\n      <td>1.105883</td>\n      <td>0.014122</td>\n      <td>1.063578</td>\n      <td>1</td>\n    </tr>\n    <tr>\n      <th>503</th>\n      <td>(sugar)</td>\n      <td>(tortillas)</td>\n      <td>0.360843</td>\n      <td>0.369622</td>\n      <td>0.147498</td>\n      <td>0.408759</td>\n      <td>1.105883</td>\n      <td>0.014122</td>\n      <td>1.066194</td>\n      <td>1</td>\n    </tr>\n    <tr>\n      <th>504</th>\n      <td>(tortillas)</td>\n      <td>(toilet paper)</td>\n      <td>0.369622</td>\n      <td>0.378402</td>\n      <td>0.156277</td>\n      <td>0.422803</td>\n      <td>1.117337</td>\n      <td>0.016412</td>\n      <td>1.076925</td>\n      <td>1</td>\n    </tr>\n    <tr>\n      <th>505</th>\n      <td>(toilet paper)</td>\n      <td>(tortillas)</td>\n      <td>0.378402</td>\n      <td>0.369622</td>\n      <td>0.156277</td>\n      <td>0.412993</td>\n      <td>1.117337</td>\n      <td>0.016412</td>\n      <td>1.073884</td>\n      <td>1</td>\n    </tr>\n  </tbody>\n</table>\n<p>506 rows × 10 columns</p>\n</div>"
     },
     "execution_count": 703,
     "metadata": {},
     "output_type": "execute_result"
    }
   ],
   "source": [
    "rules_3[(rules_3['support'] >= 0.1) & (rules_3[\"support\"] <= 0.25)"
   ],
   "metadata": {
    "collapsed": false,
    "pycharm": {
     "name": "#%%\n"
    }
   }
  }
 ],
 "metadata": {
  "kernelspec": {
   "display_name": "Python 3",
   "language": "python",
   "name": "python3"
  },
  "language_info": {
   "codemirror_mode": {
    "name": "ipython",
    "version": 2
   },
   "file_extension": ".py",
   "mimetype": "text/x-python",
   "name": "python",
   "nbconvert_exporter": "python",
   "pygments_lexer": "ipython2",
   "version": "2.7.6"
  }
 },
 "nbformat": 4,
 "nbformat_minor": 0
}